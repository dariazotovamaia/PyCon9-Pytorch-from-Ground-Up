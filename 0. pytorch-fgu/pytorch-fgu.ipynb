{
 "cells": [
  {
   "cell_type": "markdown",
   "metadata": {
    "slideshow": {
     "slide_type": "slide"
    }
   },
   "source": [
    "# <center> PyTorch From the Ground Up\n",
    "\n",
    "\n",
    "\n",
    "\n",
    "\n",
    "<center> [L. Antiga](http://twitter.com/lantiga), [D. Ciriello](http://twitter.com/dnlcrl) and [A. Paszke](http://twitter.com/apaszke)\n",
    "\n",
    "<center> [PyCon Nove (2018)](https://pycon.it/)."
   ]
  },
  {
   "cell_type": "markdown",
   "metadata": {
    "slideshow": {
     "slide_type": "slide"
    }
   },
   "source": [
    "## Before getting started\n",
    "\n",
    "Python3 is required to run this tutorial. You also will need some libraries from SciPy package (NumPy, Matplotlib, Pandas), Jupyter Notebook support, and Pytorch 0.3.0 or newer.\n",
    "\n",
    "- create (a folder and once cd'ed it) an environtment for this training:\n",
    "\n",
    "    mkdir pycon9-pytorch\n",
    "    cd pycon9-pytorch\n",
    "    \n",
    "#### non-Conda\n",
    "\n",
    "    python3 -m venv pycon9-pytorch-env\n",
    "    source pycon9-pytorch-env/bin/activate\n",
    "    \n",
    "#### Conda\n",
    "\n",
    "    conda create --name pycon9-pytorch-env\n",
    "    source activate pycon9-pytorch-env  \n",
    "    (for windows: activate myenv)\n",
    "  "
   ]
  },
  {
   "cell_type": "markdown",
   "metadata": {
    "slideshow": {
     "slide_type": "slide"
    }
   },
   "source": [
    "# Setup\n",
    "\n",
    "- to run jupyter notebooks:\n",
    "\n",
    "    python3 -m pip install jupyter\n",
    "   \n",
    "\n",
    "- to run pytorch examples (torchnet and scikit-learn not essentials):\n",
    "\n",
    "\n",
    "    python3 -m pip install torch torchvision torchnet\n",
    "    python3 -m pip install numpy matplotlib PIL\n",
    "    \n",
    "@Conda users: replace `python3 -m pip` with `conda`\n",
    "    "
   ]
  },
  {
   "cell_type": "markdown",
   "metadata": {
    "slideshow": {
     "slide_type": "notes"
    }
   },
   "source": [
    "Before gettting started, we suggest you to start installing pytorch, some necessary packages and the needed data to use with the code we will run, so while we talk during this little presentation, is highly suggested that you run those lines in your terminal and install all needed packages for later."
   ]
  },
  {
   "cell_type": "markdown",
   "metadata": {
    "slideshow": {
     "slide_type": "slide"
    }
   },
   "source": [
    "# Download Data for the Trainig\n",
    "\n",
    "During these hours we will make use of some light dataset, if you don't download the data now it, theoretically it will be downloaded automatically later, but if you want to download the data in advance you can use one of the following links:\n",
    "\n",
    "- https://bit.ly/2qstREA (DropBox)\n",
    "- https://bit.ly/2EI4NOY (GDrive, and it's an upper i)\n",
    "- https://bit.ly/2vdLLAF (iCloud)\n",
    "- https://goo.gl/uHm37T (OneDrive)\n",
    "\n",
    "you should get a `data.zip` archive (380MB), unzip it and put the unzipped `data` directory in your `pycon9-pytorch` folder.\n",
    "\n",
    "You should then be ready for the training"
   ]
  },
  {
   "cell_type": "markdown",
   "metadata": {
    "slideshow": {
     "slide_type": "notes"
    }
   },
   "source": [
    "while the packages installation is pretty propedeutics, you can skip the data downloading step, but still is highly suggested that you start to download the data because nobody knows what could happens later, if you want to, we also have some usb stick with the data in it, so let us know if you have problems.\n",
    "\n",
    "Windows warning: we prepared this training on a Unix machine and we are pretty cinfident it will work also on Lunix, but we haven't tested it on a windows machine, so, again, let us know if you have problems and we will try to fix it togheter (or you can simply fix it by yourself or avoid using a window machine ;P)"
   ]
  },
  {
   "cell_type": "markdown",
   "metadata": {
    "slideshow": {
     "slide_type": "notes"
    }
   },
   "source": [
    "This trainning shows you how to train a deep neural network using [PyTorch](http://pytorch.org/). PyTorch is a Python package aimed at accelerating deep learning applications, building on the [Torch](http://torch.ch/) library. PyTorch provides a [Numpy](http://www.numpy.org/)-like abstraction for representing _tensors_, or multiway arrays, and it can take advantage of [GPUs](http://www.nvidia.com/object/what-is-gpu-computing.html) for performance. The tutorial ends with some case study, which is how to use PyTorch for performing classification tasks and some other intresting things.\n",
    "\n",
    "> Besides PyTorch, there are numerous proposed tools and extensions to get GPU acceleration for multiway arrays. See **Suggested Next Steps** at the end of this tutorial for pointers."
   ]
  },
  {
   "cell_type": "markdown",
   "metadata": {
    "slideshow": {
     "slide_type": "skip"
    }
   },
   "source": [
    "**Knowledge prerequisites.** This tutorial assumes familiarity with Python and Numpy, for starters."
   ]
  },
  {
   "cell_type": "code",
   "execution_count": 1,
   "metadata": {
    "collapsed": true,
    "slideshow": {
     "slide_type": "skip"
    }
   },
   "outputs": [],
   "source": [
    "import numpy as np\n",
    "%matplotlib inline"
   ]
  },
  {
   "cell_type": "markdown",
   "metadata": {
    "slideshow": {
     "slide_type": "skip"
    }
   },
   "source": [
    "From there, PyTorch makes it easy to get started with deep learning even if your background in the topic is modest. At a minimum, it's helpful to know that a multilayer neural network model may be viewed as a graph of nodes (values and functions on values) connected by weights (the unknown parameters of the model), where one wishes to estimate the weights from data using an optimization procedure (think: gradient computations!) based on forward and backward propagation.\n",
    "\n",
    "**Software prerequisites.** You'll need to install PyTorch before running this notebook. Here's a code cell to verify that you are ready to go."
   ]
  },
  {
   "cell_type": "code",
   "execution_count": 2,
   "metadata": {
    "collapsed": true,
    "slideshow": {
     "slide_type": "skip"
    }
   },
   "outputs": [],
   "source": [
    "import torch"
   ]
  },
  {
   "cell_type": "markdown",
   "metadata": {
    "slideshow": {
     "slide_type": "notes"
    }
   },
   "source": [
    "**Hardware niceties.** Lastly, to exploit GPUs, you'll need an NVIDIA GPU with the CUDA SDK installed. It is reported that 10-100$\\times$ speedups are possible by doing so. Of course, if you don't have such a setup, PyTorch still can run using the CPU only. But remember, when it comes to training neural network models, life is short---so you should use GPUs if you can!"
   ]
  },
  {
   "cell_type": "markdown",
   "metadata": {
    "slideshow": {
     "slide_type": "slide"
    }
   },
   "source": [
    "## **Presentation Outline.**\n",
    "\n",
    "### 1. Essential PyTorch Background\n",
    "### 2. Training Machines with PyTorch\n",
    "### 3. Real World Applications\n",
    "### 4. Training with PyTorch Basics\n",
    "### 5. Examples Hands-on\n",
    "\n"
   ]
  },
  {
   "cell_type": "markdown",
   "metadata": {
    "slideshow": {
     "slide_type": "slide"
    }
   },
   "source": [
    "### **1. Essential PyTorch Background**\n",
    "\n",
    "#### 1.1 PyTorch, Torch, Numpy\n",
    "#### 1.2 Tensors\n",
    "#### 1.3 Tensors VS Numpy\n",
    "#### 1.4 Variables\n",
    "#### 1.5 Computation Graph\n",
    "#### 1.6 Backpropagation with PyTorch\n",
    "#### 1.7 Cuda Interface"
   ]
  },
  {
   "cell_type": "markdown",
   "metadata": {
    "slideshow": {
     "slide_type": "slide"
    }
   },
   "source": [
    "## 1. Essential PyTorch background\n",
    "\n",
    "* PyTorch is a Python package aimed at accelerating deep learning applications, building on the [Torch](http://torch.ch/) library. \n",
    "* PyTorch provides a [Numpy](http://www.numpy.org/)-like abstraction for representing _tensors_, or multiway arrays, and it can take advantage of [GPUs](http://www.nvidia.com/object/what-is-gpu-computing.html) for performance.\n",
    "\n",
    "<img src=\"images/tensor.png\" style=\"max-width:100%; width: 75%; max-width: none\"/>"
   ]
  },
  {
   "cell_type": "markdown",
   "metadata": {
    "slideshow": {
     "slide_type": "slide"
    }
   },
   "source": [
    "## 1.1 PyTorch, Torch, Numpy"
   ]
  },
  {
   "cell_type": "markdown",
   "metadata": {
    "slideshow": {
     "slide_type": "notes"
    }
   },
   "source": [
    "pytorch comes from its predecessor Lua torch, written coincidentally in Lua. Which aimed to be a xxx with anologues function to numpy and its core written in C, etc. Why Python instead of lua and why numpy as top aims"
   ]
  },
  {
   "cell_type": "markdown",
   "metadata": {
    "slideshow": {
     "slide_type": "slide"
    }
   },
   "source": [
    "## 1.2 PyTorch Tensors"
   ]
  },
  {
   "cell_type": "markdown",
   "metadata": {
    "collapsed": true,
    "slideshow": {
     "slide_type": "notes"
    }
   },
   "source": [
    "The key data abstraction of PyTorch is a tensor, which is a multidimensional array. It is similar in functionality to Numpy's `ndarray` object. Use [torch.Tensor()](http://pytorch.org/docs/master/tensors.html) to create one."
   ]
  },
  {
   "cell_type": "code",
   "execution_count": 3,
   "metadata": {
    "slideshow": {
     "slide_type": "fragment"
    }
   },
   "outputs": [
    {
     "name": "stdout",
     "output_type": "stream",
     "text": [
      "('type: ', <class 'torch.FloatTensor'>, ' and size: ', torch.Size([10, 20]))\n"
     ]
    }
   ],
   "source": [
    "# Generate a 2-D pytorch tensor (i.e., a matrix)\n",
    "pytorch_tensor = torch.Tensor(10, 20)\n",
    "print(\"type: \", type(pytorch_tensor), \" and size: \", pytorch_tensor.shape )"
   ]
  },
  {
   "cell_type": "markdown",
   "metadata": {
    "slideshow": {
     "slide_type": "notes"
    }
   },
   "source": [
    "If you need a Numpy-compatible representation, or if you want to create a PyTorch tensor from an existing Numpy object, it's easy to do."
   ]
  },
  {
   "cell_type": "code",
   "execution_count": 4,
   "metadata": {
    "slideshow": {
     "slide_type": "fragment"
    }
   },
   "outputs": [
    {
     "name": "stdout",
     "output_type": "stream",
     "text": [
      "('type: ', <type 'numpy.ndarray'>, ' and size: ', (10, 20))\n",
      "('type: ', <class 'torch.FloatTensor'>, ' and size: ', torch.Size([10, 20]))\n"
     ]
    }
   ],
   "source": [
    "# Convert the pytorch tensor to a numpy array:\n",
    "numpy_tensor = pytorch_tensor.numpy()\n",
    "print(\"type: \", type(numpy_tensor), \" and size: \", numpy_tensor.shape)\n",
    "\n",
    "# Convert the numpy array to Pytorch Tensor:\n",
    "print(\"type: \", type(torch.Tensor(numpy_tensor)), \" and size: \", torch.Tensor(numpy_tensor).shape)"
   ]
  },
  {
   "cell_type": "markdown",
   "metadata": {
    "slideshow": {
     "slide_type": "slide"
    }
   },
   "source": [
    "## 1.3 PyTorch vs. NumPy"
   ]
  },
  {
   "cell_type": "markdown",
   "metadata": {
    "slideshow": {
     "slide_type": "notes"
    }
   },
   "source": [
    "PyTorch is not a drop in replacement for NumPy, but it implements a lot of Numpy functionality. One inconvenience is it's naming scheme that sometimes is rather different from Numpy. Let's go over several examples to see the difference. Let's look at PyTorch and NumPy differences on various examples:"
   ]
  },
  {
   "cell_type": "markdown",
   "metadata": {
    "slideshow": {
     "slide_type": "fragment"
    }
   },
   "source": [
    "#### 1. Tensor creation"
   ]
  },
  {
   "cell_type": "code",
   "execution_count": 5,
   "metadata": {
    "collapsed": true,
    "slideshow": {
     "slide_type": "fragment"
    }
   },
   "outputs": [],
   "source": [
    "t = torch.rand(2, 4, 3, 5)\n",
    "a = np.random.rand(2, 4, 3, 5)"
   ]
  },
  {
   "cell_type": "code",
   "execution_count": 6,
   "metadata": {
    "slideshow": {
     "slide_type": "skip"
    }
   },
   "outputs": [
    {
     "name": "stdout",
     "output_type": "stream",
     "text": [
      "('Random Tensor with size (3, 4):\\n', \n",
      " 0.4754  0.6463  0.1006  0.7674\n",
      " 0.3172  0.9662  0.9730  0.6362\n",
      " 0.1474  0.5803  0.0878  0.7704\n",
      "[torch.FloatTensor of size 3x4]\n",
      ")\n",
      "('Random NdArray with size (3, 4):\\n', array([[0.09740168, 0.95940133, 0.55691188, 0.71650853],\n",
      "       [0.8625846 , 0.58623005, 0.0765706 , 0.79093742],\n",
      "       [0.87391937, 0.56765921, 0.90997674, 0.660596  ]]))\n",
      "-------------------------------------------------------------------------\n"
     ]
    }
   ],
   "source": [
    "print('Random Tensor with size (3, 4):\\n', torch.rand(3, 4))\n",
    "print(\"Random NdArray with size (3, 4):\\n\", np.random.rand(3, 4))\n",
    "print('-------------------------------------------------------------------------')"
   ]
  },
  {
   "cell_type": "markdown",
   "metadata": {
    "slideshow": {
     "slide_type": "skip"
    }
   },
   "source": [
    "You can see other initializations schemes like zeros, ones, and identity matrices below."
   ]
  },
  {
   "cell_type": "code",
   "execution_count": 7,
   "metadata": {
    "slideshow": {
     "slide_type": "skip"
    }
   },
   "outputs": [
    {
     "name": "stdout",
     "output_type": "stream",
     "text": [
      "('Tensor of zeros with size (3, 4):\\n', \n",
      " 0  0  0  0\n",
      " 0  0  0  0\n",
      " 0  0  0  0\n",
      "[torch.FloatTensor of size 3x4]\n",
      ")\n",
      "('NdArray of zeros with size (3, 4):\\n', array([[0., 0., 0., 0.],\n",
      "       [0., 0., 0., 0.],\n",
      "       [0., 0., 0., 0.]]))\n",
      "-------------------------------------------------------------------------\n",
      "('Tensor of ones with size (3, 4):\\n', \n",
      " 1  1  1  1\n",
      " 1  1  1  1\n",
      " 1  1  1  1\n",
      "[torch.FloatTensor of size 3x4]\n",
      ")\n",
      "('NdArray of ones with size (3, 4):\\n', array([[1., 1., 1., 1.],\n",
      "       [1., 1., 1., 1.],\n",
      "       [1., 1., 1., 1.]]))\n",
      "-------------------------------------------------------------------------\n",
      "('Identity Tensor with size (3, 4):\\n', \n",
      " 1  0  0  0\n",
      " 0  1  0  0\n",
      " 0  0  1  0\n",
      "[torch.FloatTensor of size 3x4]\n",
      ")\n",
      "(\"Identity NdArray with size (3, 3) (can't create non-squared identity matrix):\\n\", array([[1., 0., 0.],\n",
      "       [0., 1., 0.],\n",
      "       [0., 0., 1.]]))\n",
      "-------------------------------------------------------------------------\n"
     ]
    }
   ],
   "source": [
    "print('Tensor of zeros with size (3, 4):\\n', torch.zeros(3, 4))\n",
    "print('NdArray of zeros with size (3, 4):\\n', np.zeros((3, 4)))\n",
    "print('-------------------------------------------------------------------------')\n",
    "\n",
    "print('Tensor of ones with size (3, 4):\\n', torch.ones(3, 4))\n",
    "print('NdArray of ones with size (3, 4):\\n', np.ones((3, 4)))\n",
    "print('-------------------------------------------------------------------------')\n",
    "\n",
    "print('Identity Tensor with size (3, 4):\\n', torch.eye(3, 4))\n",
    "print(\"Identity NdArray with size (3, 3) (can't create non-squared identity matrix):\\n\", np.eye(3))\n",
    "print('-------------------------------------------------------------------------')"
   ]
  },
  {
   "cell_type": "markdown",
   "metadata": {
    "slideshow": {
     "slide_type": "fragment"
    }
   },
   "source": [
    "#### 2. Tensor slicing"
   ]
  },
  {
   "cell_type": "code",
   "execution_count": 8,
   "metadata": {
    "slideshow": {
     "slide_type": "skip"
    }
   },
   "outputs": [
    {
     "name": "stdout",
     "output_type": "stream",
     "text": [
      "('Tensor:\\n', \n",
      "(0 ,0 ,.,.) = \n",
      "  0.8927  0.8765  0.7227  0.6440  0.7628\n",
      "  0.0991  0.2456  0.7453  0.4013  0.6193\n",
      "  0.7082  0.9520  0.5097  0.6849  0.7736\n",
      "\n",
      "(0 ,1 ,.,.) = \n",
      "  0.3453  0.1061  0.4539  0.8786  0.0756\n",
      "  0.7806  0.5007  0.8466  0.6959  0.9096\n",
      "  0.8843  0.6639  0.5449  0.6260  0.1390\n",
      "\n",
      "(0 ,2 ,.,.) = \n",
      "  0.9275  0.9387  0.1271  0.0543  0.6793\n",
      "  0.5550  0.1407  0.2807  0.7984  0.5488\n",
      "  0.4926  0.2670  0.2426  0.7957  0.0591\n",
      "\n",
      "(0 ,3 ,.,.) = \n",
      "  0.7766  0.0442  0.2634  0.6583  0.1431\n",
      "  0.4807  0.7173  0.5568  0.1835  0.4006\n",
      "  0.5180  0.0049  0.4900  0.3229  0.2752\n",
      "\n",
      "(1 ,0 ,.,.) = \n",
      "  0.0122  0.8934  0.8601  0.7785  0.8321\n",
      "  0.4978  0.1648  0.2380  0.8510  0.0251\n",
      "  0.6932  0.5889  0.9295  0.7362  0.1310\n",
      "\n",
      "(1 ,1 ,.,.) = \n",
      "  0.0548  0.9171  0.6205  0.2432  0.1620\n",
      "  0.1167  0.4314  0.5757  0.7448  0.8041\n",
      "  0.4937  0.7730  0.1111  0.7027  0.6935\n",
      "\n",
      "(1 ,2 ,.,.) = \n",
      "  0.6581  0.3094  0.5197  0.8278  0.9137\n",
      "  0.8487  0.8076  0.6080  0.6044  0.3242\n",
      "  0.8910  0.8151  0.9536  0.2894  0.3920\n",
      "\n",
      "(1 ,3 ,.,.) = \n",
      "  0.7491  0.2077  0.4301  0.9446  0.3360\n",
      "  0.3292  0.4744  0.7042  0.7516  0.3043\n",
      "  0.4678  0.9170  0.2252  0.9838  0.6066\n",
      "[torch.FloatTensor of size 2x4x3x5]\n",
      ")\n",
      "('NdArray:\\n', array([[[[0.8926958 , 0.8765368 , 0.7227357 , 0.6439942 , 0.76276535],\n",
      "         [0.09906483, 0.2456041 , 0.74529517, 0.40134615, 0.61926764],\n",
      "         [0.70815265, 0.95201   , 0.5097219 , 0.68491054, 0.773585  ]],\n",
      "\n",
      "        [[0.34531552, 0.10614556, 0.4539129 , 0.8786139 , 0.07564211],\n",
      "         [0.78062874, 0.50066245, 0.84664124, 0.6958588 , 0.90960705],\n",
      "         [0.88425106, 0.6639061 , 0.54486346, 0.6259751 , 0.1390332 ]],\n",
      "\n",
      "        [[0.92745674, 0.9387345 , 0.12714249, 0.05430537, 0.6793212 ],\n",
      "         [0.55495274, 0.14065814, 0.2807266 , 0.79839706, 0.54875016],\n",
      "         [0.49260437, 0.26696414, 0.24257153, 0.7956703 , 0.05909902]],\n",
      "\n",
      "        [[0.7765595 , 0.04418081, 0.26344335, 0.65827376, 0.1430971 ],\n",
      "         [0.48065084, 0.7173111 , 0.5568166 , 0.18353504, 0.4006045 ],\n",
      "         [0.5180046 , 0.00491112, 0.49002647, 0.3228833 , 0.27516067]]],\n",
      "\n",
      "\n",
      "       [[[0.01223999, 0.8933764 , 0.86013603, 0.778511  , 0.8321228 ],\n",
      "         [0.49780613, 0.16477871, 0.23803324, 0.8509661 , 0.02505422],\n",
      "         [0.69316864, 0.5889244 , 0.92949253, 0.7362434 , 0.13098001]],\n",
      "\n",
      "        [[0.05479419, 0.91711307, 0.62048453, 0.2431879 , 0.16198242],\n",
      "         [0.11666089, 0.43142998, 0.5756804 , 0.7448442 , 0.80413973],\n",
      "         [0.49368495, 0.7730376 , 0.11109465, 0.70266056, 0.6934711 ]],\n",
      "\n",
      "        [[0.65805155, 0.30935258, 0.5196842 , 0.8277702 , 0.91374177],\n",
      "         [0.84867656, 0.8075737 , 0.60797167, 0.6044432 , 0.32420617],\n",
      "         [0.8909786 , 0.8151204 , 0.9536141 , 0.28938824, 0.39198256]],\n",
      "\n",
      "        [[0.7491304 , 0.20772225, 0.43014222, 0.9445795 , 0.335972  ],\n",
      "         [0.3292238 , 0.47440708, 0.70415854, 0.7515857 , 0.30433547],\n",
      "         [0.4677732 , 0.91701317, 0.22521329, 0.9837569 , 0.60660696]]]],\n",
      "      dtype=float32))\n",
      "-------------------------------------------------------------------------\n"
     ]
    }
   ],
   "source": [
    "t = torch.rand(2, 4, 3, 5)\n",
    "a = t.numpy()\n",
    "\n",
    "print ('Tensor:\\n', t)\n",
    "print ('NdArray:\\n', a)\n",
    "print ('-------------------------------------------------------------------------')"
   ]
  },
  {
   "cell_type": "code",
   "execution_count": 9,
   "metadata": {
    "collapsed": true,
    "slideshow": {
     "slide_type": "fragment"
    }
   },
   "outputs": [],
   "source": [
    "pytorch_slice = t[0, 1:3, :, 4]\n",
    "numpy_slice =  a[0, 1:3, :, 4]"
   ]
  },
  {
   "cell_type": "code",
   "execution_count": 10,
   "metadata": {
    "slideshow": {
     "slide_type": "skip"
    }
   },
   "outputs": [
    {
     "name": "stdout",
     "output_type": "stream",
     "text": [
      "('Tensor[0, 1:3, :, 4]:\\n', \n",
      " 0.0756  0.9096  0.1390\n",
      " 0.6793  0.5488  0.0591\n",
      "[torch.FloatTensor of size 2x3]\n",
      ")\n",
      "('NdArray[0, 1:3, :, 4]:\\n', array([[0.07564211, 0.90960705, 0.1390332 ],\n",
      "       [0.6793212 , 0.54875016, 0.05909902]], dtype=float32))\n",
      "-------------------------------------------------------------------------\n"
     ]
    }
   ],
   "source": [
    "print ('Tensor[0, 1:3, :, 4]:\\n', pytorch_slice)\n",
    "print ('NdArray[0, 1:3, :, 4]:\\n', numpy_slice)\n",
    "print ('-------------------------------------------------------------------------')"
   ]
  },
  {
   "cell_type": "markdown",
   "metadata": {
    "slideshow": {
     "slide_type": "skip"
    }
   },
   "source": [
    "Below you can find more slicing examples."
   ]
  },
  {
   "cell_type": "code",
   "execution_count": 11,
   "metadata": {
    "slideshow": {
     "slide_type": "skip"
    }
   },
   "outputs": [
    {
     "name": "stdout",
     "output_type": "stream",
     "text": [
      "('Tensor size:\\n', torch.Size([2, 4, 3, 5]))\n",
      "('NdArray size:\\n', (2, 4, 3, 5))\n",
      "-------------------------------------------------------------------------\n",
      "('Tensor[0][1][2][3]:\\n', 0.6259750723838806)\n",
      "('NdArray[0][1][2][3]:\\n', 0.6259751)\n",
      "-------------------------------------------------------------------------\n",
      "('Tensor[0, 1, 2, 3]:\\n', 0.6259750723838806)\n",
      "('NdArray[0, 1, 2, 3]:\\n', 0.6259751)\n",
      "-------------------------------------------------------------------------\n",
      "('Tensor[0][1]:\\n', \n",
      " 0.3453  0.1061  0.4539  0.8786  0.0756\n",
      " 0.7806  0.5007  0.8466  0.6959  0.9096\n",
      " 0.8843  0.6639  0.5449  0.6260  0.1390\n",
      "[torch.FloatTensor of size 3x5]\n",
      ")\n",
      "('NdArray[0][1]:\\n', array([[0.34531552, 0.10614556, 0.4539129 , 0.8786139 , 0.07564211],\n",
      "       [0.78062874, 0.50066245, 0.84664124, 0.6958588 , 0.90960705],\n",
      "       [0.88425106, 0.6639061 , 0.54486346, 0.6259751 , 0.1390332 ]],\n",
      "      dtype=float32))\n",
      "-------------------------------------------------------------------------\n",
      "('Tensor[0, 1:3]:\\n', \n",
      "(0 ,.,.) = \n",
      "  0.3453  0.1061  0.4539  0.8786  0.0756\n",
      "  0.7806  0.5007  0.8466  0.6959  0.9096\n",
      "  0.8843  0.6639  0.5449  0.6260  0.1390\n",
      "\n",
      "(1 ,.,.) = \n",
      "  0.9275  0.9387  0.1271  0.0543  0.6793\n",
      "  0.5550  0.1407  0.2807  0.7984  0.5488\n",
      "  0.4926  0.2670  0.2426  0.7957  0.0591\n",
      "[torch.FloatTensor of size 2x3x5]\n",
      ")\n",
      "('NdArray[0, 1:3]:\\n', array([[[0.34531552, 0.10614556, 0.4539129 , 0.8786139 , 0.07564211],\n",
      "        [0.78062874, 0.50066245, 0.84664124, 0.6958588 , 0.90960705],\n",
      "        [0.88425106, 0.6639061 , 0.54486346, 0.6259751 , 0.1390332 ]],\n",
      "\n",
      "       [[0.92745674, 0.9387345 , 0.12714249, 0.05430537, 0.6793212 ],\n",
      "        [0.55495274, 0.14065814, 0.2807266 , 0.79839706, 0.54875016],\n",
      "        [0.49260437, 0.26696414, 0.24257153, 0.7956703 , 0.05909902]]],\n",
      "      dtype=float32))\n",
      "-------------------------------------------------------------------------\n"
     ]
    }
   ],
   "source": [
    "print ('Tensor size:\\n', t.size())\n",
    "print ('NdArray size:\\n', a.shape)\n",
    "print ('-------------------------------------------------------------------------')\n",
    "\n",
    "print ('Tensor[0][1][2][3]:\\n', t[0][1][2][3])\n",
    "print ('NdArray[0][1][2][3]:\\n', a[0][1][2][3])\n",
    "print ('-------------------------------------------------------------------------')\n",
    "\n",
    "print ('Tensor[0, 1, 2, 3]:\\n', t[0, 1, 2, 3])\n",
    "print ('NdArray[0, 1, 2, 3]:\\n', a[0, 1, 2, 3])\n",
    "print ('-------------------------------------------------------------------------')\n",
    "\n",
    "print ('Tensor[0][1]:\\n', t[0][1])\n",
    "print ('NdArray[0][1]:\\n', a[0][1])\n",
    "print ('-------------------------------------------------------------------------')\n",
    "\n",
    "print ('Tensor[0, 1:3]:\\n', t[0, 1:3])\n",
    "print ('NdArray[0, 1:3]:\\n', a[0, 1:3])\n",
    "print ('-------------------------------------------------------------------------')"
   ]
  },
  {
   "cell_type": "markdown",
   "metadata": {
    "slideshow": {
     "slide_type": "fragment"
    }
   },
   "source": [
    "#### 3. Tensor masking"
   ]
  },
  {
   "cell_type": "code",
   "execution_count": 12,
   "metadata": {
    "slideshow": {
     "slide_type": "skip"
    }
   },
   "outputs": [
    {
     "name": "stdout",
     "output_type": "stream",
     "text": [
      "('Tensor:\\n', \n",
      "(0 ,0 ,.,.) = \n",
      "  0.3927  0.3765  0.2227  0.1440  0.2628\n",
      " -0.4009 -0.2544  0.2453 -0.0987  0.1193\n",
      "  0.2082  0.4520  0.0097  0.1849  0.2736\n",
      "\n",
      "(0 ,1 ,.,.) = \n",
      " -0.1547 -0.3939 -0.0461  0.3786 -0.4244\n",
      "  0.2806  0.0007  0.3466  0.1959  0.4096\n",
      "  0.3843  0.1639  0.0449  0.1260 -0.3610\n",
      "\n",
      "(0 ,2 ,.,.) = \n",
      "  0.4275  0.4387 -0.3729 -0.4457  0.1793\n",
      "  0.0550 -0.3593 -0.2193  0.2984  0.0488\n",
      " -0.0074 -0.2330 -0.2574  0.2957 -0.4409\n",
      "\n",
      "(0 ,3 ,.,.) = \n",
      "  0.2766 -0.4558 -0.2366  0.1583 -0.3569\n",
      " -0.0193  0.2173  0.0568 -0.3165 -0.0994\n",
      "  0.0180 -0.4951 -0.0100 -0.1771 -0.2248\n",
      "\n",
      "(1 ,0 ,.,.) = \n",
      " -0.4878  0.3934  0.3601  0.2785  0.3321\n",
      " -0.0022 -0.3352 -0.2620  0.3510 -0.4749\n",
      "  0.1932  0.0889  0.4295  0.2362 -0.3690\n",
      "\n",
      "(1 ,1 ,.,.) = \n",
      " -0.4452  0.4171  0.1205 -0.2568 -0.3380\n",
      " -0.3833 -0.0686  0.0757  0.2448  0.3041\n",
      " -0.0063  0.2730 -0.3889  0.2027  0.1935\n",
      "\n",
      "(1 ,2 ,.,.) = \n",
      "  0.1581 -0.1906  0.0197  0.3278  0.4137\n",
      "  0.3487  0.3076  0.1080  0.1044 -0.1758\n",
      "  0.3910  0.3151  0.4536 -0.2106 -0.1080\n",
      "\n",
      "(1 ,3 ,.,.) = \n",
      "  0.2491 -0.2923 -0.0699  0.4446 -0.1640\n",
      " -0.1708 -0.0256  0.2042  0.2516 -0.1957\n",
      " -0.0322  0.4170 -0.2748  0.4838  0.1066\n",
      "[torch.FloatTensor of size 2x4x3x5]\n",
      ")\n",
      "('NdArray:\\n', array([[[[ 0.39269578,  0.3765368 ,  0.2227357 ,  0.14399421,\n",
      "           0.26276535],\n",
      "         [-0.40093517, -0.2543959 ,  0.24529517, -0.09865385,\n",
      "           0.11926764],\n",
      "         [ 0.20815265,  0.45200998,  0.00972188,  0.18491054,\n",
      "           0.27358502]],\n",
      "\n",
      "        [[-0.15468448, -0.39385444, -0.04608709,  0.3786139 ,\n",
      "          -0.4243579 ],\n",
      "         [ 0.28062874,  0.00066245,  0.34664124,  0.19585878,\n",
      "           0.40960705],\n",
      "         [ 0.38425106,  0.1639061 ,  0.04486346,  0.12597507,\n",
      "          -0.3609668 ]],\n",
      "\n",
      "        [[ 0.42745674,  0.43873447, -0.3728575 , -0.44569463,\n",
      "           0.17932123],\n",
      "         [ 0.05495274, -0.35934186, -0.21927339,  0.29839706,\n",
      "           0.04875016],\n",
      "         [-0.00739563, -0.23303586, -0.25742847,  0.29567027,\n",
      "          -0.44090098]],\n",
      "\n",
      "        [[ 0.27655947, -0.4558192 , -0.23655665,  0.15827376,\n",
      "          -0.3569029 ],\n",
      "         [-0.01934916,  0.21731108,  0.05681658, -0.31646496,\n",
      "          -0.09939551],\n",
      "         [ 0.0180046 , -0.49508888, -0.00997353, -0.17711669,\n",
      "          -0.22483933]]],\n",
      "\n",
      "\n",
      "       [[[-0.48776   ,  0.3933764 ,  0.36013603,  0.278511  ,\n",
      "           0.3321228 ],\n",
      "         [-0.00219387, -0.3352213 , -0.26196676,  0.3509661 ,\n",
      "          -0.47494578],\n",
      "         [ 0.19316864,  0.08892441,  0.42949253,  0.23624343,\n",
      "          -0.36902   ]],\n",
      "\n",
      "        [[-0.4452058 ,  0.41711307,  0.12048453, -0.2568121 ,\n",
      "          -0.33801758],\n",
      "         [-0.3833391 , -0.06857002,  0.07568038,  0.2448442 ,\n",
      "           0.30413973],\n",
      "         [-0.00631505,  0.2730376 , -0.38890535,  0.20266056,\n",
      "           0.19347107]],\n",
      "\n",
      "        [[ 0.15805155, -0.19064742,  0.0196842 ,  0.32777017,\n",
      "           0.41374177],\n",
      "         [ 0.34867656,  0.30757368,  0.10797167,  0.10444319,\n",
      "          -0.17579383],\n",
      "         [ 0.39097857,  0.3151204 ,  0.45361412, -0.21061176,\n",
      "          -0.10801744]],\n",
      "\n",
      "        [[ 0.24913043, -0.29227775, -0.06985778,  0.44457948,\n",
      "          -0.16402799],\n",
      "         [-0.17077619, -0.02559292,  0.20415854,  0.25158572,\n",
      "          -0.19566453],\n",
      "         [-0.0322268 ,  0.41701317, -0.2747867 ,  0.4837569 ,\n",
      "           0.10660696]]]], dtype=float32))\n",
      "-------------------------------------------------------------------------\n"
     ]
    }
   ],
   "source": [
    "t = t - 0.5\n",
    "a = t.numpy()\n",
    "\n",
    "print ('Tensor:\\n', t)\n",
    "print ('NdArray:\\n', a)\n",
    "print ('-------------------------------------------------------------------------')"
   ]
  },
  {
   "cell_type": "code",
   "execution_count": 13,
   "metadata": {
    "collapsed": true,
    "slideshow": {
     "slide_type": "fragment"
    }
   },
   "outputs": [],
   "source": [
    "pytorch_masked = t[t > 0]\n",
    "numpy_masked = a[a > 0]"
   ]
  },
  {
   "cell_type": "code",
   "execution_count": 14,
   "metadata": {
    "slideshow": {
     "slide_type": "skip"
    }
   },
   "outputs": [
    {
     "name": "stdout",
     "output_type": "stream",
     "text": [
      "('Tensor[Tensor > 0]:\\n', \n",
      " 0.3927\n",
      " 0.3765\n",
      " 0.2227\n",
      " 0.1440\n",
      " 0.2628\n",
      " 0.2453\n",
      " 0.1193\n",
      " 0.2082\n",
      " 0.4520\n",
      " 0.0097\n",
      " 0.1849\n",
      " 0.2736\n",
      " 0.3786\n",
      " 0.2806\n",
      " 0.0007\n",
      " 0.3466\n",
      " 0.1959\n",
      " 0.4096\n",
      " 0.3843\n",
      " 0.1639\n",
      " 0.0449\n",
      " 0.1260\n",
      " 0.4275\n",
      " 0.4387\n",
      " 0.1793\n",
      " 0.0550\n",
      " 0.2984\n",
      " 0.0488\n",
      " 0.2957\n",
      " 0.2766\n",
      " 0.1583\n",
      " 0.2173\n",
      " 0.0568\n",
      " 0.0180\n",
      " 0.3934\n",
      " 0.3601\n",
      " 0.2785\n",
      " 0.3321\n",
      " 0.3510\n",
      " 0.1932\n",
      " 0.0889\n",
      " 0.4295\n",
      " 0.2362\n",
      " 0.4171\n",
      " 0.1205\n",
      " 0.0757\n",
      " 0.2448\n",
      " 0.3041\n",
      " 0.2730\n",
      " 0.2027\n",
      " 0.1935\n",
      " 0.1581\n",
      " 0.0197\n",
      " 0.3278\n",
      " 0.4137\n",
      " 0.3487\n",
      " 0.3076\n",
      " 0.1080\n",
      " 0.1044\n",
      " 0.3910\n",
      " 0.3151\n",
      " 0.4536\n",
      " 0.2491\n",
      " 0.4446\n",
      " 0.2042\n",
      " 0.2516\n",
      " 0.4170\n",
      " 0.4838\n",
      " 0.1066\n",
      "[torch.FloatTensor of size 69]\n",
      ")\n",
      "('NdArray[NdArray > 0]:\\n', array([0.39269578, 0.3765368 , 0.2227357 , 0.14399421, 0.26276535,\n",
      "       0.24529517, 0.11926764, 0.20815265, 0.45200998, 0.00972188,\n",
      "       0.18491054, 0.27358502, 0.3786139 , 0.28062874, 0.00066245,\n",
      "       0.34664124, 0.19585878, 0.40960705, 0.38425106, 0.1639061 ,\n",
      "       0.04486346, 0.12597507, 0.42745674, 0.43873447, 0.17932123,\n",
      "       0.05495274, 0.29839706, 0.04875016, 0.29567027, 0.27655947,\n",
      "       0.15827376, 0.21731108, 0.05681658, 0.0180046 , 0.3933764 ,\n",
      "       0.36013603, 0.278511  , 0.3321228 , 0.3509661 , 0.19316864,\n",
      "       0.08892441, 0.42949253, 0.23624343, 0.41711307, 0.12048453,\n",
      "       0.07568038, 0.2448442 , 0.30413973, 0.2730376 , 0.20266056,\n",
      "       0.19347107, 0.15805155, 0.0196842 , 0.32777017, 0.41374177,\n",
      "       0.34867656, 0.30757368, 0.10797167, 0.10444319, 0.39097857,\n",
      "       0.3151204 , 0.45361412, 0.24913043, 0.44457948, 0.20415854,\n",
      "       0.25158572, 0.41701317, 0.4837569 , 0.10660696], dtype=float32))\n",
      "-------------------------------------------------------------------------\n"
     ]
    }
   ],
   "source": [
    "print ('Tensor[Tensor > 0]:\\n', pytorch_masked)\n",
    "print ('NdArray[NdArray > 0]:\\n', numpy_masked)\n",
    "print ('-------------------------------------------------------------------------')"
   ]
  },
  {
   "cell_type": "markdown",
   "metadata": {
    "slideshow": {
     "slide_type": "skip"
    }
   },
   "source": [
    "Below you can see how conditioning works with PyTorch, and how array size is changed after that."
   ]
  },
  {
   "cell_type": "code",
   "execution_count": 15,
   "metadata": {
    "slideshow": {
     "slide_type": "skip"
    }
   },
   "outputs": [
    {
     "name": "stdout",
     "output_type": "stream",
     "text": [
      "('Tensor > 0:\\n', \n",
      "(0 ,0 ,.,.) = \n",
      "  1  1  1  1  1\n",
      "  0  0  1  0  1\n",
      "  1  1  1  1  1\n",
      "\n",
      "(0 ,1 ,.,.) = \n",
      "  0  0  0  1  0\n",
      "  1  1  1  1  1\n",
      "  1  1  1  1  0\n",
      "\n",
      "(0 ,2 ,.,.) = \n",
      "  1  1  0  0  1\n",
      "  1  0  0  1  1\n",
      "  0  0  0  1  0\n",
      "\n",
      "(0 ,3 ,.,.) = \n",
      "  1  0  0  1  0\n",
      "  0  1  1  0  0\n",
      "  1  0  0  0  0\n",
      "\n",
      "(1 ,0 ,.,.) = \n",
      "  0  1  1  1  1\n",
      "  0  0  0  1  0\n",
      "  1  1  1  1  0\n",
      "\n",
      "(1 ,1 ,.,.) = \n",
      "  0  1  1  0  0\n",
      "  0  0  1  1  1\n",
      "  0  1  0  1  1\n",
      "\n",
      "(1 ,2 ,.,.) = \n",
      "  1  0  1  1  1\n",
      "  1  1  1  1  0\n",
      "  1  1  1  0  0\n",
      "\n",
      "(1 ,3 ,.,.) = \n",
      "  1  0  0  1  0\n",
      "  0  0  1  1  0\n",
      "  0  1  0  1  1\n",
      "[torch.ByteTensor of size 2x4x3x5]\n",
      ")\n",
      "('NdArray > 0:\\n', array([[[[ True,  True,  True,  True,  True],\n",
      "         [False, False,  True, False,  True],\n",
      "         [ True,  True,  True,  True,  True]],\n",
      "\n",
      "        [[False, False, False,  True, False],\n",
      "         [ True,  True,  True,  True,  True],\n",
      "         [ True,  True,  True,  True, False]],\n",
      "\n",
      "        [[ True,  True, False, False,  True],\n",
      "         [ True, False, False,  True,  True],\n",
      "         [False, False, False,  True, False]],\n",
      "\n",
      "        [[ True, False, False,  True, False],\n",
      "         [False,  True,  True, False, False],\n",
      "         [ True, False, False, False, False]]],\n",
      "\n",
      "\n",
      "       [[[False,  True,  True,  True,  True],\n",
      "         [False, False, False,  True, False],\n",
      "         [ True,  True,  True,  True, False]],\n",
      "\n",
      "        [[False,  True,  True, False, False],\n",
      "         [False, False,  True,  True,  True],\n",
      "         [False,  True, False,  True,  True]],\n",
      "\n",
      "        [[ True, False,  True,  True,  True],\n",
      "         [ True,  True,  True,  True, False],\n",
      "         [ True,  True,  True, False, False]],\n",
      "\n",
      "        [[ True, False, False,  True, False],\n",
      "         [False, False,  True,  True, False],\n",
      "         [False,  True, False,  True,  True]]]]))\n",
      "-------------------------------------------------------------------------\n",
      "('Tensor[Tensor > 0]:\\n', \n",
      " 0.3927\n",
      " 0.3765\n",
      " 0.2227\n",
      " 0.1440\n",
      " 0.2628\n",
      " 0.2453\n",
      " 0.1193\n",
      " 0.2082\n",
      " 0.4520\n",
      " 0.0097\n",
      " 0.1849\n",
      " 0.2736\n",
      " 0.3786\n",
      " 0.2806\n",
      " 0.0007\n",
      " 0.3466\n",
      " 0.1959\n",
      " 0.4096\n",
      " 0.3843\n",
      " 0.1639\n",
      " 0.0449\n",
      " 0.1260\n",
      " 0.4275\n",
      " 0.4387\n",
      " 0.1793\n",
      " 0.0550\n",
      " 0.2984\n",
      " 0.0488\n",
      " 0.2957\n",
      " 0.2766\n",
      " 0.1583\n",
      " 0.2173\n",
      " 0.0568\n",
      " 0.0180\n",
      " 0.3934\n",
      " 0.3601\n",
      " 0.2785\n",
      " 0.3321\n",
      " 0.3510\n",
      " 0.1932\n",
      " 0.0889\n",
      " 0.4295\n",
      " 0.2362\n",
      " 0.4171\n",
      " 0.1205\n",
      " 0.0757\n",
      " 0.2448\n",
      " 0.3041\n",
      " 0.2730\n",
      " 0.2027\n",
      " 0.1935\n",
      " 0.1581\n",
      " 0.0197\n",
      " 0.3278\n",
      " 0.4137\n",
      " 0.3487\n",
      " 0.3076\n",
      " 0.1080\n",
      " 0.1044\n",
      " 0.3910\n",
      " 0.3151\n",
      " 0.4536\n",
      " 0.2491\n",
      " 0.4446\n",
      " 0.2042\n",
      " 0.2516\n",
      " 0.4170\n",
      " 0.4838\n",
      " 0.1066\n",
      "[torch.FloatTensor of size 69]\n",
      ")\n",
      "('NdArray[NdArray > 0]:\\n', array([0.39269578, 0.3765368 , 0.2227357 , 0.14399421, 0.26276535,\n",
      "       0.24529517, 0.11926764, 0.20815265, 0.45200998, 0.00972188,\n",
      "       0.18491054, 0.27358502, 0.3786139 , 0.28062874, 0.00066245,\n",
      "       0.34664124, 0.19585878, 0.40960705, 0.38425106, 0.1639061 ,\n",
      "       0.04486346, 0.12597507, 0.42745674, 0.43873447, 0.17932123,\n",
      "       0.05495274, 0.29839706, 0.04875016, 0.29567027, 0.27655947,\n",
      "       0.15827376, 0.21731108, 0.05681658, 0.0180046 , 0.3933764 ,\n",
      "       0.36013603, 0.278511  , 0.3321228 , 0.3509661 , 0.19316864,\n",
      "       0.08892441, 0.42949253, 0.23624343, 0.41711307, 0.12048453,\n",
      "       0.07568038, 0.2448442 , 0.30413973, 0.2730376 , 0.20266056,\n",
      "       0.19347107, 0.15805155, 0.0196842 , 0.32777017, 0.41374177,\n",
      "       0.34867656, 0.30757368, 0.10797167, 0.10444319, 0.39097857,\n",
      "       0.3151204 , 0.45361412, 0.24913043, 0.44457948, 0.20415854,\n",
      "       0.25158572, 0.41701317, 0.4837569 , 0.10660696], dtype=float32))\n",
      "-------------------------------------------------------------------------\n",
      "('Size of Tensor[Tensor > 0]:\\n', torch.Size([69]))\n",
      "('Size of NdArray[NdArray > 0]:\\n', (69,))\n",
      "-------------------------------------------------------------------------\n"
     ]
    }
   ],
   "source": [
    "print ('Tensor > 0:\\n', t > 0)\n",
    "print ('NdArray > 0:\\n', a > 0)\n",
    "print ('-------------------------------------------------------------------------')\n",
    "\n",
    "print ('Tensor[Tensor > 0]:\\n', t[t > 0])\n",
    "print ('NdArray[NdArray > 0]:\\n', a[a > 0])\n",
    "print ('-------------------------------------------------------------------------')\n",
    "\n",
    "print ('Size of Tensor[Tensor > 0]:\\n', t[t > 0].size())\n",
    "print ('Size of NdArray[NdArray > 0]:\\n', a[a > 0].shape)\n",
    "print ('-------------------------------------------------------------------------')"
   ]
  },
  {
   "cell_type": "markdown",
   "metadata": {
    "slideshow": {
     "slide_type": "fragment"
    }
   },
   "source": [
    "#### 4. Tensor reshaping"
   ]
  },
  {
   "cell_type": "code",
   "execution_count": 16,
   "metadata": {
    "slideshow": {
     "slide_type": "skip"
    }
   },
   "outputs": [
    {
     "name": "stdout",
     "output_type": "stream",
     "text": [
      "('Tensor:\\n', \n",
      "(0 ,0 ,.,.) = \n",
      "  0.3927  0.3765  0.2227  0.1440  0.2628\n",
      " -0.4009 -0.2544  0.2453 -0.0987  0.1193\n",
      "  0.2082  0.4520  0.0097  0.1849  0.2736\n",
      "\n",
      "(0 ,1 ,.,.) = \n",
      " -0.1547 -0.3939 -0.0461  0.3786 -0.4244\n",
      "  0.2806  0.0007  0.3466  0.1959  0.4096\n",
      "  0.3843  0.1639  0.0449  0.1260 -0.3610\n",
      "\n",
      "(0 ,2 ,.,.) = \n",
      "  0.4275  0.4387 -0.3729 -0.4457  0.1793\n",
      "  0.0550 -0.3593 -0.2193  0.2984  0.0488\n",
      " -0.0074 -0.2330 -0.2574  0.2957 -0.4409\n",
      "\n",
      "(0 ,3 ,.,.) = \n",
      "  0.2766 -0.4558 -0.2366  0.1583 -0.3569\n",
      " -0.0193  0.2173  0.0568 -0.3165 -0.0994\n",
      "  0.0180 -0.4951 -0.0100 -0.1771 -0.2248\n",
      "\n",
      "(1 ,0 ,.,.) = \n",
      " -0.4878  0.3934  0.3601  0.2785  0.3321\n",
      " -0.0022 -0.3352 -0.2620  0.3510 -0.4749\n",
      "  0.1932  0.0889  0.4295  0.2362 -0.3690\n",
      "\n",
      "(1 ,1 ,.,.) = \n",
      " -0.4452  0.4171  0.1205 -0.2568 -0.3380\n",
      " -0.3833 -0.0686  0.0757  0.2448  0.3041\n",
      " -0.0063  0.2730 -0.3889  0.2027  0.1935\n",
      "\n",
      "(1 ,2 ,.,.) = \n",
      "  0.1581 -0.1906  0.0197  0.3278  0.4137\n",
      "  0.3487  0.3076  0.1080  0.1044 -0.1758\n",
      "  0.3910  0.3151  0.4536 -0.2106 -0.1080\n",
      "\n",
      "(1 ,3 ,.,.) = \n",
      "  0.2491 -0.2923 -0.0699  0.4446 -0.1640\n",
      " -0.1708 -0.0256  0.2042  0.2516 -0.1957\n",
      " -0.0322  0.4170 -0.2748  0.4838  0.1066\n",
      "[torch.FloatTensor of size 2x4x3x5]\n",
      ")\n",
      "('NdArray:\\n', array([[[[ 0.39269578,  0.3765368 ,  0.2227357 ,  0.14399421,\n",
      "           0.26276535],\n",
      "         [-0.40093517, -0.2543959 ,  0.24529517, -0.09865385,\n",
      "           0.11926764],\n",
      "         [ 0.20815265,  0.45200998,  0.00972188,  0.18491054,\n",
      "           0.27358502]],\n",
      "\n",
      "        [[-0.15468448, -0.39385444, -0.04608709,  0.3786139 ,\n",
      "          -0.4243579 ],\n",
      "         [ 0.28062874,  0.00066245,  0.34664124,  0.19585878,\n",
      "           0.40960705],\n",
      "         [ 0.38425106,  0.1639061 ,  0.04486346,  0.12597507,\n",
      "          -0.3609668 ]],\n",
      "\n",
      "        [[ 0.42745674,  0.43873447, -0.3728575 , -0.44569463,\n",
      "           0.17932123],\n",
      "         [ 0.05495274, -0.35934186, -0.21927339,  0.29839706,\n",
      "           0.04875016],\n",
      "         [-0.00739563, -0.23303586, -0.25742847,  0.29567027,\n",
      "          -0.44090098]],\n",
      "\n",
      "        [[ 0.27655947, -0.4558192 , -0.23655665,  0.15827376,\n",
      "          -0.3569029 ],\n",
      "         [-0.01934916,  0.21731108,  0.05681658, -0.31646496,\n",
      "          -0.09939551],\n",
      "         [ 0.0180046 , -0.49508888, -0.00997353, -0.17711669,\n",
      "          -0.22483933]]],\n",
      "\n",
      "\n",
      "       [[[-0.48776   ,  0.3933764 ,  0.36013603,  0.278511  ,\n",
      "           0.3321228 ],\n",
      "         [-0.00219387, -0.3352213 , -0.26196676,  0.3509661 ,\n",
      "          -0.47494578],\n",
      "         [ 0.19316864,  0.08892441,  0.42949253,  0.23624343,\n",
      "          -0.36902   ]],\n",
      "\n",
      "        [[-0.4452058 ,  0.41711307,  0.12048453, -0.2568121 ,\n",
      "          -0.33801758],\n",
      "         [-0.3833391 , -0.06857002,  0.07568038,  0.2448442 ,\n",
      "           0.30413973],\n",
      "         [-0.00631505,  0.2730376 , -0.38890535,  0.20266056,\n",
      "           0.19347107]],\n",
      "\n",
      "        [[ 0.15805155, -0.19064742,  0.0196842 ,  0.32777017,\n",
      "           0.41374177],\n",
      "         [ 0.34867656,  0.30757368,  0.10797167,  0.10444319,\n",
      "          -0.17579383],\n",
      "         [ 0.39097857,  0.3151204 ,  0.45361412, -0.21061176,\n",
      "          -0.10801744]],\n",
      "\n",
      "        [[ 0.24913043, -0.29227775, -0.06985778,  0.44457948,\n",
      "          -0.16402799],\n",
      "         [-0.17077619, -0.02559292,  0.20415854,  0.25158572,\n",
      "          -0.19566453],\n",
      "         [-0.0322268 ,  0.41701317, -0.2747867 ,  0.4837569 ,\n",
      "           0.10660696]]]], dtype=float32))\n",
      "-------------------------------------------------------------------------\n"
     ]
    }
   ],
   "source": [
    "print ('Tensor:\\n', t)\n",
    "print ('NdArray:\\n', a)\n",
    "print ('-------------------------------------------------------------------------')"
   ]
  },
  {
   "cell_type": "code",
   "execution_count": 17,
   "metadata": {
    "collapsed": true,
    "slideshow": {
     "slide_type": "fragment"
    }
   },
   "outputs": [],
   "source": [
    "pytorch_reshape = t.view([6, 5, 4])\n",
    "numpy_reshape = a.reshape([6, 5, 4])"
   ]
  },
  {
   "cell_type": "code",
   "execution_count": 18,
   "metadata": {
    "slideshow": {
     "slide_type": "skip"
    }
   },
   "outputs": [
    {
     "name": "stdout",
     "output_type": "stream",
     "text": [
      "('Tensor reshaped to (6:5:4):\\n', \n",
      "(0 ,.,.) = \n",
      "  0.3927  0.3765  0.2227  0.1440\n",
      "  0.2628 -0.4009 -0.2544  0.2453\n",
      " -0.0987  0.1193  0.2082  0.4520\n",
      "  0.0097  0.1849  0.2736 -0.1547\n",
      " -0.3939 -0.0461  0.3786 -0.4244\n",
      "\n",
      "(1 ,.,.) = \n",
      "  0.2806  0.0007  0.3466  0.1959\n",
      "  0.4096  0.3843  0.1639  0.0449\n",
      "  0.1260 -0.3610  0.4275  0.4387\n",
      " -0.3729 -0.4457  0.1793  0.0550\n",
      " -0.3593 -0.2193  0.2984  0.0488\n",
      "\n",
      "(2 ,.,.) = \n",
      " -0.0074 -0.2330 -0.2574  0.2957\n",
      " -0.4409  0.2766 -0.4558 -0.2366\n",
      "  0.1583 -0.3569 -0.0193  0.2173\n",
      "  0.0568 -0.3165 -0.0994  0.0180\n",
      " -0.4951 -0.0100 -0.1771 -0.2248\n",
      "\n",
      "(3 ,.,.) = \n",
      " -0.4878  0.3934  0.3601  0.2785\n",
      "  0.3321 -0.0022 -0.3352 -0.2620\n",
      "  0.3510 -0.4749  0.1932  0.0889\n",
      "  0.4295  0.2362 -0.3690 -0.4452\n",
      "  0.4171  0.1205 -0.2568 -0.3380\n",
      "\n",
      "(4 ,.,.) = \n",
      " -0.3833 -0.0686  0.0757  0.2448\n",
      "  0.3041 -0.0063  0.2730 -0.3889\n",
      "  0.2027  0.1935  0.1581 -0.1906\n",
      "  0.0197  0.3278  0.4137  0.3487\n",
      "  0.3076  0.1080  0.1044 -0.1758\n",
      "\n",
      "(5 ,.,.) = \n",
      "  0.3910  0.3151  0.4536 -0.2106\n",
      " -0.1080  0.2491 -0.2923 -0.0699\n",
      "  0.4446 -0.1640 -0.1708 -0.0256\n",
      "  0.2042  0.2516 -0.1957 -0.0322\n",
      "  0.4170 -0.2748  0.4838  0.1066\n",
      "[torch.FloatTensor of size 6x5x4]\n",
      ")\n",
      "('NdArray reshaped to (6:5:4):\\n', array([[[ 0.39269578,  0.3765368 ,  0.2227357 ,  0.14399421],\n",
      "        [ 0.26276535, -0.40093517, -0.2543959 ,  0.24529517],\n",
      "        [-0.09865385,  0.11926764,  0.20815265,  0.45200998],\n",
      "        [ 0.00972188,  0.18491054,  0.27358502, -0.15468448],\n",
      "        [-0.39385444, -0.04608709,  0.3786139 , -0.4243579 ]],\n",
      "\n",
      "       [[ 0.28062874,  0.00066245,  0.34664124,  0.19585878],\n",
      "        [ 0.40960705,  0.38425106,  0.1639061 ,  0.04486346],\n",
      "        [ 0.12597507, -0.3609668 ,  0.42745674,  0.43873447],\n",
      "        [-0.3728575 , -0.44569463,  0.17932123,  0.05495274],\n",
      "        [-0.35934186, -0.21927339,  0.29839706,  0.04875016]],\n",
      "\n",
      "       [[-0.00739563, -0.23303586, -0.25742847,  0.29567027],\n",
      "        [-0.44090098,  0.27655947, -0.4558192 , -0.23655665],\n",
      "        [ 0.15827376, -0.3569029 , -0.01934916,  0.21731108],\n",
      "        [ 0.05681658, -0.31646496, -0.09939551,  0.0180046 ],\n",
      "        [-0.49508888, -0.00997353, -0.17711669, -0.22483933]],\n",
      "\n",
      "       [[-0.48776   ,  0.3933764 ,  0.36013603,  0.278511  ],\n",
      "        [ 0.3321228 , -0.00219387, -0.3352213 , -0.26196676],\n",
      "        [ 0.3509661 , -0.47494578,  0.19316864,  0.08892441],\n",
      "        [ 0.42949253,  0.23624343, -0.36902   , -0.4452058 ],\n",
      "        [ 0.41711307,  0.12048453, -0.2568121 , -0.33801758]],\n",
      "\n",
      "       [[-0.3833391 , -0.06857002,  0.07568038,  0.2448442 ],\n",
      "        [ 0.30413973, -0.00631505,  0.2730376 , -0.38890535],\n",
      "        [ 0.20266056,  0.19347107,  0.15805155, -0.19064742],\n",
      "        [ 0.0196842 ,  0.32777017,  0.41374177,  0.34867656],\n",
      "        [ 0.30757368,  0.10797167,  0.10444319, -0.17579383]],\n",
      "\n",
      "       [[ 0.39097857,  0.3151204 ,  0.45361412, -0.21061176],\n",
      "        [-0.10801744,  0.24913043, -0.29227775, -0.06985778],\n",
      "        [ 0.44457948, -0.16402799, -0.17077619, -0.02559292],\n",
      "        [ 0.20415854,  0.25158572, -0.19566453, -0.0322268 ],\n",
      "        [ 0.41701317, -0.2747867 ,  0.4837569 ,  0.10660696]]],\n",
      "      dtype=float32))\n",
      "-------------------------------------------------------------------------\n"
     ]
    }
   ],
   "source": [
    "print ('Tensor reshaped to (6:5:4):\\n', pytorch_reshape)\n",
    "print ('NdArray reshaped to (6:5:4):\\n',numpy_reshape)\n",
    "print ('-------------------------------------------------------------------------')"
   ]
  },
  {
   "cell_type": "markdown",
   "metadata": {
    "slideshow": {
     "slide_type": "skip"
    }
   },
   "source": [
    "You can also see a permutation example below."
   ]
  },
  {
   "cell_type": "code",
   "execution_count": 19,
   "metadata": {
    "scrolled": true,
    "slideshow": {
     "slide_type": "skip"
    }
   },
   "outputs": [
    {
     "name": "stdout",
     "output_type": "stream",
     "text": [
      "('Tensor with dimensions transposed as (1, 0, 2):\\n', \n",
      "(0 ,.,.) = \n",
      "  0.3927  0.3765  0.2227  0.1440\n",
      "  0.2806  0.0007  0.3466  0.1959\n",
      " -0.0074 -0.2330 -0.2574  0.2957\n",
      " -0.4878  0.3934  0.3601  0.2785\n",
      " -0.3833 -0.0686  0.0757  0.2448\n",
      "  0.3910  0.3151  0.4536 -0.2106\n",
      "\n",
      "(1 ,.,.) = \n",
      "  0.2628 -0.4009 -0.2544  0.2453\n",
      "  0.4096  0.3843  0.1639  0.0449\n",
      " -0.4409  0.2766 -0.4558 -0.2366\n",
      "  0.3321 -0.0022 -0.3352 -0.2620\n",
      "  0.3041 -0.0063  0.2730 -0.3889\n",
      " -0.1080  0.2491 -0.2923 -0.0699\n",
      "\n",
      "(2 ,.,.) = \n",
      " -0.0987  0.1193  0.2082  0.4520\n",
      "  0.1260 -0.3610  0.4275  0.4387\n",
      "  0.1583 -0.3569 -0.0193  0.2173\n",
      "  0.3510 -0.4749  0.1932  0.0889\n",
      "  0.2027  0.1935  0.1581 -0.1906\n",
      "  0.4446 -0.1640 -0.1708 -0.0256\n",
      "\n",
      "(3 ,.,.) = \n",
      "  0.0097  0.1849  0.2736 -0.1547\n",
      " -0.3729 -0.4457  0.1793  0.0550\n",
      "  0.0568 -0.3165 -0.0994  0.0180\n",
      "  0.4295  0.2362 -0.3690 -0.4452\n",
      "  0.0197  0.3278  0.4137  0.3487\n",
      "  0.2042  0.2516 -0.1957 -0.0322\n",
      "\n",
      "(4 ,.,.) = \n",
      " -0.3939 -0.0461  0.3786 -0.4244\n",
      " -0.3593 -0.2193  0.2984  0.0488\n",
      " -0.4951 -0.0100 -0.1771 -0.2248\n",
      "  0.4171  0.1205 -0.2568 -0.3380\n",
      "  0.3076  0.1080  0.1044 -0.1758\n",
      "  0.4170 -0.2748  0.4838  0.1066\n",
      "[torch.FloatTensor of size 5x6x4]\n",
      ")\n",
      "('NdArray with dimensions transposed as (1, 0, 2):\\n', array([[[ 0.39269578,  0.3765368 ,  0.2227357 ,  0.14399421],\n",
      "        [ 0.28062874,  0.00066245,  0.34664124,  0.19585878],\n",
      "        [-0.00739563, -0.23303586, -0.25742847,  0.29567027],\n",
      "        [-0.48776   ,  0.3933764 ,  0.36013603,  0.278511  ],\n",
      "        [-0.3833391 , -0.06857002,  0.07568038,  0.2448442 ],\n",
      "        [ 0.39097857,  0.3151204 ,  0.45361412, -0.21061176]],\n",
      "\n",
      "       [[ 0.26276535, -0.40093517, -0.2543959 ,  0.24529517],\n",
      "        [ 0.40960705,  0.38425106,  0.1639061 ,  0.04486346],\n",
      "        [-0.44090098,  0.27655947, -0.4558192 , -0.23655665],\n",
      "        [ 0.3321228 , -0.00219387, -0.3352213 , -0.26196676],\n",
      "        [ 0.30413973, -0.00631505,  0.2730376 , -0.38890535],\n",
      "        [-0.10801744,  0.24913043, -0.29227775, -0.06985778]],\n",
      "\n",
      "       [[-0.09865385,  0.11926764,  0.20815265,  0.45200998],\n",
      "        [ 0.12597507, -0.3609668 ,  0.42745674,  0.43873447],\n",
      "        [ 0.15827376, -0.3569029 , -0.01934916,  0.21731108],\n",
      "        [ 0.3509661 , -0.47494578,  0.19316864,  0.08892441],\n",
      "        [ 0.20266056,  0.19347107,  0.15805155, -0.19064742],\n",
      "        [ 0.44457948, -0.16402799, -0.17077619, -0.02559292]],\n",
      "\n",
      "       [[ 0.00972188,  0.18491054,  0.27358502, -0.15468448],\n",
      "        [-0.3728575 , -0.44569463,  0.17932123,  0.05495274],\n",
      "        [ 0.05681658, -0.31646496, -0.09939551,  0.0180046 ],\n",
      "        [ 0.42949253,  0.23624343, -0.36902   , -0.4452058 ],\n",
      "        [ 0.0196842 ,  0.32777017,  0.41374177,  0.34867656],\n",
      "        [ 0.20415854,  0.25158572, -0.19566453, -0.0322268 ]],\n",
      "\n",
      "       [[-0.39385444, -0.04608709,  0.3786139 , -0.4243579 ],\n",
      "        [-0.35934186, -0.21927339,  0.29839706,  0.04875016],\n",
      "        [-0.49508888, -0.00997353, -0.17711669, -0.22483933],\n",
      "        [ 0.41711307,  0.12048453, -0.2568121 , -0.33801758],\n",
      "        [ 0.30757368,  0.10797167,  0.10444319, -0.17579383],\n",
      "        [ 0.41701317, -0.2747867 ,  0.4837569 ,  0.10660696]]],\n",
      "      dtype=float32))\n",
      "-------------------------------------------------------------------------\n"
     ]
    }
   ],
   "source": [
    "\n",
    "print ('Tensor with dimensions transposed as (1, 0, 2):\\n', pytorch_reshape.permute(1, 0, 2) )\n",
    "print ('NdArray with dimensions transposed as (1, 0, 2):\\n', np.transpose(numpy_reshape, (1, 0, 2)))\n",
    "print ('-------------------------------------------------------------------------')\n"
   ]
  },
  {
   "cell_type": "markdown",
   "metadata": {
    "slideshow": {
     "slide_type": "slide"
    }
   },
   "source": [
    "## 1.4 PyTorch Variables\n",
    "\n",
    "* Thin **wrapper** around Tensor in PyTorch\n",
    "* Keeps wrapped Tensor object in **.data**.\n",
    "* Keeps gradients with respect to this Variable in **.grad**.\n",
    "* To be merged with Tensor (0.4.x (?)) -> More painless\n",
    "<img src=\"images/variable.png\"/>"
   ]
  },
  {
   "cell_type": "markdown",
   "metadata": {
    "slideshow": {
     "slide_type": "slide"
    }
   },
   "source": [
    "## 1.4 PyTorch Variables\n",
    "\n",
    "* Helps to build **computation graph**\n",
    "* Necessary part of **Autograd** - automatic differenciation library\n",
    "* **.backward()** on a variable to compute its derivatives\n",
    " - if the variable is not scalar, you need to specify a grad_output arg (tensor of matching shape)\n",
    "* **.grad_fn** references a function that has created a Variable (exept for Variables created by the user) "
   ]
  },
  {
   "cell_type": "code",
   "execution_count": 20,
   "metadata": {
    "slideshow": {
     "slide_type": "skip"
    }
   },
   "outputs": [
    {
     "name": "stdout",
     "output_type": "stream",
     "text": [
      "Variable containing:\n",
      " 1  1\n",
      " 1  1\n",
      "[torch.FloatTensor of size 2x2]\n",
      "\n"
     ]
    }
   ],
   "source": [
    "from torch.autograd import Variable\n",
    "x = Variable(torch.ones(2,2), requires_grad=True)\n",
    "print(x)"
   ]
  },
  {
   "cell_type": "code",
   "execution_count": 21,
   "metadata": {
    "slideshow": {
     "slide_type": "skip"
    }
   },
   "outputs": [
    {
     "name": "stdout",
     "output_type": "stream",
     "text": [
      "\n",
      " 1  1\n",
      " 1  1\n",
      "[torch.FloatTensor of size 2x2]\n",
      "\n"
     ]
    }
   ],
   "source": [
    "print( x.data)"
   ]
  },
  {
   "cell_type": "code",
   "execution_count": 22,
   "metadata": {
    "slideshow": {
     "slide_type": "skip"
    }
   },
   "outputs": [
    {
     "name": "stdout",
     "output_type": "stream",
     "text": [
      "None\n",
      "None\n"
     ]
    }
   ],
   "source": [
    "print(x.grad)\n",
    "print(x.grad_fn)"
   ]
  },
  {
   "cell_type": "code",
   "execution_count": 23,
   "metadata": {
    "slideshow": {
     "slide_type": "skip"
    }
   },
   "outputs": [
    {
     "name": "stdout",
     "output_type": "stream",
     "text": [
      "Variable containing:\n",
      " 3  3\n",
      " 3  3\n",
      "[torch.FloatTensor of size 2x2]\n",
      "\n",
      "<AddBackward0 object at 0x10d174850>\n"
     ]
    }
   ],
   "source": [
    "y = x + 2\n",
    "print(y)\n",
    "print(y.grad_fn)"
   ]
  },
  {
   "cell_type": "code",
   "execution_count": 24,
   "metadata": {
    "slideshow": {
     "slide_type": "skip"
    }
   },
   "outputs": [
    {
     "name": "stdout",
     "output_type": "stream",
     "text": [
      "Variable containing:\n",
      " 27  27\n",
      " 27  27\n",
      "[torch.FloatTensor of size 2x2]\n",
      "\n",
      "Variable containing:\n",
      " 27\n",
      "[torch.FloatTensor of size 1]\n",
      "\n"
     ]
    }
   ],
   "source": [
    "z = y ** 2 * 3\n",
    "out = z.mean()\n",
    "print(z)\n",
    "print(out)"
   ]
  },
  {
   "cell_type": "markdown",
   "metadata": {
    "slideshow": {
     "slide_type": "slide"
    }
   },
   "source": [
    "## 1.5 Computation Graph\n",
    "* DAG in which nodes represents variables and edges represent mathematical operations\n",
    "* Pruned where possible (removing edges/nodes)\n",
    "* The graph starts with leafs only \n",
    "* Root variables computed during optimization step\n",
    "* combining th egraph with the chain rule we compute derivatives\n"
   ]
  },
  {
   "cell_type": "markdown",
   "metadata": {
    "slideshow": {
     "slide_type": "notes"
    }
   },
   "source": [
    "In simple terms, a computation graph is a DAG in which nodes represent variables (tensors, matrix, scalars, etc.) and edge represent some mathematical operations (for example, summation, multiplication).\n",
    "\n",
    "The computation graph has some leaf variables. The root variables of the graph are computed according to operations defined by the graph. During the optimization step, we combine the chain rule and the graph to compute the derivative of the output w.r.t the learnable variable in the graph and update these variables to make the output close to what we want. In neural networks, these learnable variables are often called weight and bias."
   ]
  },
  {
   "cell_type": "markdown",
   "metadata": {
    "slideshow": {
     "slide_type": "notes"
    }
   },
   "source": [
    "**Computation graphs and variables.** In PyTorch, a neural network is represented by a _computational graph_ composed of interconnected _variables_. PyTorch allows you to build the network model by constructing this graph in code; it then simplifies the process of estimating the weights of this model by, for example, automatically calculating gradients.\n",
    "\n",
    "For example, suppose we wish to build the following two-layer model.Let's start by creating variables for the tensor inputs $x$ and outputs $y$. We'll do so by wrapping a PyTorch `Tensor` inside a `Variable` object:"
   ]
  },
  {
   "cell_type": "code",
   "execution_count": 25,
   "metadata": {
    "collapsed": true,
    "slideshow": {
     "slide_type": "skip"
    }
   },
   "outputs": [],
   "source": [
    "from torch.autograd import Variable\n",
    "import torch.nn.functional as F\n",
    "\n",
    "x = Variable(torch.randn(5, 1), requires_grad=False)\n",
    "y = Variable(torch.randn(5, 1), requires_grad=False)"
   ]
  },
  {
   "cell_type": "markdown",
   "metadata": {
    "slideshow": {
     "slide_type": "notes"
    }
   },
   "source": [
    "We set requires_grad to True to say that we want the gradient to be computed automatically which will be used in backpropagation to optimize the weights."
   ]
  },
  {
   "cell_type": "markdown",
   "metadata": {
    "collapsed": true,
    "slideshow": {
     "slide_type": "notes"
    }
   },
   "source": [
    "Now we define the weights: "
   ]
  },
  {
   "cell_type": "code",
   "execution_count": 26,
   "metadata": {
    "collapsed": true,
    "slideshow": {
     "slide_type": "fragment"
    }
   },
   "outputs": [],
   "source": [
    "w1 = Variable(torch.randn(7, 5), requires_grad=True)\n",
    "w2 = Variable(torch.randn(5, 7), requires_grad=True)"
   ]
  },
  {
   "cell_type": "markdown",
   "metadata": {
    "slideshow": {
     "slide_type": "notes"
    }
   },
   "source": [
    "Train the model:"
   ]
  },
  {
   "cell_type": "code",
   "execution_count": 27,
   "metadata": {
    "collapsed": true,
    "slideshow": {
     "slide_type": "fragment"
    }
   },
   "outputs": [],
   "source": [
    "def model_forward(x):\n",
    "    return F.sigmoid(w2.mm(F.sigmoid(w1.mm(x))))"
   ]
  },
  {
   "cell_type": "code",
   "execution_count": 28,
   "metadata": {},
   "outputs": [
    {
     "name": "stdout",
     "output_type": "stream",
     "text": [
      "Variable containing:\n",
      " 0.1995\n",
      " 0.1801\n",
      " 0.5255\n",
      " 0.2009\n",
      " 0.0429\n",
      "[torch.FloatTensor of size 5x1]\n",
      "\n"
     ]
    }
   ],
   "source": [
    "print(model_forward(x))"
   ]
  },
  {
   "cell_type": "code",
   "execution_count": 29,
   "metadata": {
    "slideshow": {
     "slide_type": "skip"
    }
   },
   "outputs": [
    {
     "name": "stdout",
     "output_type": "stream",
     "text": [
      "Variable containing:\n",
      " 0.1346  1.0683  0.2942 -1.6103 -0.7585\n",
      "-0.3089 -1.9494  0.8572  0.4455 -0.6200\n",
      "-0.8149 -1.1655  0.8081  0.6018  1.5847\n",
      "-2.1711  0.0701  0.3303  0.0151 -1.5349\n",
      " 0.1420  1.2531 -0.8958  0.6438  1.3820\n",
      "-0.0304 -1.6062 -1.5032  0.3514 -0.0221\n",
      "-0.7799 -0.1663 -0.3649  0.6816 -0.5603\n",
      "[torch.FloatTensor of size 7x5]\n",
      "\n",
      "torch.Size([7, 5])\n",
      "None\n"
     ]
    }
   ],
   "source": [
    "print (w1)\n",
    "print (w1.data.shape)\n",
    "print (w1.grad) # Initially, non-existent"
   ]
  },
  {
   "cell_type": "markdown",
   "metadata": {
    "slideshow": {
     "slide_type": "slide"
    }
   },
   "source": [
    "## 1.6 Backpropagation with PyTorch"
   ]
  },
  {
   "cell_type": "markdown",
   "metadata": {
    "slideshow": {
     "slide_type": "notes"
    }
   },
   "source": [
    "So, we have inputs and targets, we have our simple model's weights, now it's time to train them. And for this, we need three components: "
   ]
  },
  {
   "cell_type": "markdown",
   "metadata": {
    "slideshow": {
     "slide_type": "fragment"
    }
   },
   "source": [
    "**Loss** that describes how far our model from the target"
   ]
  },
  {
   "cell_type": "code",
   "execution_count": 30,
   "metadata": {
    "collapsed": true,
    "scrolled": true,
    "slideshow": {
     "slide_type": "fragment"
    }
   },
   "outputs": [],
   "source": [
    "import torch.nn as nn\n",
    "criterion = nn.MSELoss()"
   ]
  },
  {
   "cell_type": "markdown",
   "metadata": {
    "slideshow": {
     "slide_type": "fragment"
    }
   },
   "source": [
    "**Optimization algorithm** that we use to update the weight update, and"
   ]
  },
  {
   "cell_type": "code",
   "execution_count": 31,
   "metadata": {
    "collapsed": true,
    "slideshow": {
     "slide_type": "fragment"
    }
   },
   "outputs": [],
   "source": [
    "import torch.optim as optim\n",
    "optimizer = optim.SGD([w1, w2], lr=0.001)"
   ]
  },
  {
   "cell_type": "markdown",
   "metadata": {
    "slideshow": {
     "slide_type": "fragment"
    }
   },
   "source": [
    "**Backpropagation step**"
   ]
  },
  {
   "cell_type": "code",
   "execution_count": 32,
   "metadata": {
    "collapsed": true,
    "slideshow": {
     "slide_type": "fragment"
    }
   },
   "outputs": [],
   "source": [
    "for epoch in range(10):\n",
    "    loss = criterion(model_forward(x), y)\n",
    "    optimizer.zero_grad() # Zero-out previous gradients\n",
    "    loss.backward() # Compute new gradients\n",
    "    optimizer.step() # Apply these gradients"
   ]
  },
  {
   "cell_type": "code",
   "execution_count": 34,
   "metadata": {
    "scrolled": true,
    "slideshow": {
     "slide_type": "skip"
    }
   },
   "outputs": [
    {
     "name": "stdout",
     "output_type": "stream",
     "text": [
      "Variable containing:\n",
      " 0.1344  1.0682  0.2940 -1.6103 -0.7588\n",
      "-0.3088 -1.9494  0.8573  0.4454 -0.6199\n",
      "-0.8150 -1.1656  0.8080  0.6018  1.5846\n",
      "-2.1711  0.0701  0.3303  0.0151 -1.5349\n",
      " 0.1417  1.2531 -0.8961  0.6439  1.3817\n",
      "-0.0306 -1.6062 -1.5033  0.3514 -0.0222\n",
      "-0.7800 -0.1664 -0.3649  0.6816 -0.5604\n",
      "[torch.FloatTensor of size 7x5]\n",
      "\n"
     ]
    }
   ],
   "source": [
    "print (w1)"
   ]
  },
  {
   "cell_type": "markdown",
   "metadata": {
    "slideshow": {
     "slide_type": "slide"
    }
   },
   "source": [
    "##  1.7 CUDA interface"
   ]
  },
  {
   "cell_type": "markdown",
   "metadata": {
    "slideshow": {
     "slide_type": "notes"
    }
   },
   "source": [
    "One of the benefits of PyTorch is that it provides a CUDA interface for its tensor and autograd libraries. Using CUDA GPGPUs you can accelerate not onlu neural network training and inference, but also any other workload that maps to PyTorch tensors.\n",
    "\n",
    "You can check whether you have CUDA available in PyTorch by calling **torch.cuda.is_available()** function."
   ]
  },
  {
   "cell_type": "code",
   "execution_count": 35,
   "metadata": {
    "slideshow": {
     "slide_type": "fragment"
    }
   },
   "outputs": [
    {
     "name": "stdout",
     "output_type": "stream",
     "text": [
      "Life is short -- consider a GPU!\n"
     ]
    }
   ],
   "source": [
    "cuda_gpu = torch.cuda.is_available()\n",
    "if (cuda_gpu):\n",
    "    print(\"Great, you have a GPU!\")\n",
    "else:\n",
    "    print(\"Life is short -- consider a GPU!\")\n"
   ]
  },
  {
   "cell_type": "markdown",
   "metadata": {
    "slideshow": {
     "slide_type": "fragment"
    }
   },
   "source": [
    "## .cuda()"
   ]
  },
  {
   "cell_type": "markdown",
   "metadata": {
    "slideshow": {
     "slide_type": "skip"
    }
   },
   "source": [
    "**Spoiler**: if you don't have a cuda GPU, or it's not configured for PyTorch, the next two cells are going to fail without wrapping them into if statement or in try block."
   ]
  },
  {
   "cell_type": "markdown",
   "metadata": {
    "slideshow": {
     "slide_type": "notes"
    }
   },
   "source": [
    "After that, accelerating you code with cuda is as easy as calling **.cuda()** on your tensors and models. If you call **.cuda()** on tensors, it will perform data transfer from CPU to CUDA GPU. If you call **.cuda()** on a model, it not only moves all its internal storage to GPU, but also maps the whole computational graph to GPU.\n",
    "\n",
    "To copy a tensor or a model back to CPU, for example in order to interface it with NumPy, you can call **.cpu()**."
   ]
  },
  {
   "cell_type": "code",
   "execution_count": 36,
   "metadata": {
    "slideshow": {
     "slide_type": "fragment"
    }
   },
   "outputs": [
    {
     "name": "stdout",
     "output_type": "stream",
     "text": [
      "<class 'torch.FloatTensor'>\n"
     ]
    }
   ],
   "source": [
    "if cuda_gpu:\n",
    "    x = x.cuda()\n",
    "    print(type(x.data))\n",
    "\n",
    "x = x.cpu()\n",
    "print(type(x.data))"
   ]
  },
  {
   "cell_type": "code",
   "execution_count": 37,
   "metadata": {
    "slideshow": {
     "slide_type": "skip"
    }
   },
   "outputs": [
    {
     "name": "stdout",
     "output_type": "stream",
     "text": [
      "Variable containing:\n",
      "-0.5155\n",
      "-0.0881\n",
      "-0.4270\n",
      " 0.1192\n",
      "-0.5127\n",
      "[torch.FloatTensor of size 5x1]\n",
      "\n",
      "Variable containing:\n",
      " 0.1341  1.0682  0.2937 -1.6102 -0.7591\n",
      "-0.3087 -1.9494  0.8574  0.4454 -0.6198\n",
      "-0.8151 -1.1656  0.8079  0.6019  1.5845\n",
      "-2.1710  0.0701  0.3304  0.0151 -1.5348\n",
      " 0.1413  1.2530 -0.8964  0.6440  1.3813\n",
      "-0.0307 -1.6062 -1.5034  0.3514 -0.0223\n",
      "-0.7801 -0.1664 -0.3650  0.6816 -0.5605\n",
      "[torch.FloatTensor of size 7x5]\n",
      "\n"
     ]
    }
   ],
   "source": [
    "if cuda_gpu:\n",
    "    x = x.cuda()\n",
    "    y = y.cuda()\n",
    "    w1 = w1.cuda()\n",
    "    w2 = w2.cuda()\n",
    "\n",
    "print (x)\n",
    "for epoch in range(10):\n",
    "    loss = criterion(model_forward(x), y)\n",
    "        \n",
    "    optimizer.zero_grad() # Zero-out previous gradients\n",
    "    loss.backward() # Compute new gradients\n",
    "    optimizer.step() # Apply these gradients\n",
    "print (w1)"
   ]
  },
  {
   "cell_type": "code",
   "execution_count": 38,
   "metadata": {
    "collapsed": true,
    "slideshow": {
     "slide_type": "skip"
    }
   },
   "outputs": [],
   "source": [
    "def train(model, epoch, criterion, optimizer, data_loader):\n",
    "    model.train()\n",
    "    for batch_idx, (data, target) in enumerate(data_loader):\n",
    "        if cuda_gpu:\n",
    "            data, target = data.cuda(), target.cuda()\n",
    "            model.cuda()\n",
    "        data, target = Variable(data), Variable(target)\n",
    "        output = model(data)\n",
    "        \n",
    "        optimizer.zero_grad()\n",
    "        loss = criterion(output, target)\n",
    "        loss.backward()\n",
    "        optimizer.step()\n",
    "        if (batch_idx+1) % 400 == 0:\n",
    "            print('Train Epoch: {} [{}/{} ({:.0f}%)]\\tLoss: {:.6f}'.format(\n",
    "                epoch, (batch_idx+1) * len(data), len(data_loader.dataset),\n",
    "                100. * (batch_idx+1) / len(data_loader), loss.data[0]))"
   ]
  },
  {
   "cell_type": "code",
   "execution_count": 39,
   "metadata": {
    "collapsed": true,
    "slideshow": {
     "slide_type": "skip"
    }
   },
   "outputs": [],
   "source": [
    "def test(model, epoch, criterion, data_loader):\n",
    "    model.eval()\n",
    "    test_loss = 0\n",
    "    correct = 0\n",
    "    for data, target in data_loader:\n",
    "        if cuda_gpu:\n",
    "            data, target = data.cuda(), target.cuda()\n",
    "            model.cuda()\n",
    "        data, target = Variable(data), Variable(target)\n",
    "        output = model(data)\n",
    "        test_loss += criterion(output, target).data[0]\n",
    "        pred = output.data.max(1)[1] # get the index of the max log-probability\n",
    "        correct += pred.eq(target.data).cpu().sum()\n",
    "\n",
    "    test_loss /= len(data_loader) # loss function already averages over batch size\n",
    "    acc = correct / len(data_loader.dataset)\n",
    "    print('\\nTest set: Average loss: {:.4f}, Accuracy: {}/{} ({:.0f}%)\\n'.format(\n",
    "        test_loss, correct, len(data_loader.dataset), 100. * acc))\n",
    "    return (acc, test_loss)"
   ]
  },
  {
   "cell_type": "markdown",
   "metadata": {
    "slideshow": {
     "slide_type": "notes"
    }
   },
   "source": [
    "Let's define two functions, train and test, to perform training and inference using our model. This code is also adopted from the PyTorch official tutorial and shows all the steps necessary for training/inference. For the training and testing aour network we need to perform a sequence of actions, that are mapped to PyTorch code fairly straightforward:\n",
    "\n",
    "1. We switch model to training/inference mode\n",
    "2. We iterate over the dataset fetching images in batches\n",
    "3. For every batch we load data and targets and running forward step of the network to get the model outputs\n",
    "4.  We define a loss function and compute loss between model outputs and targets on per batch basis\n",
    "5. In case of training, we zero gradients and use backpropagation with optimizer defined on the previous step to compute gradients of all the layers with respect to loss.\n",
    "6. In case of training, we perform a weight update step\n",
    "\n"
   ]
  },
  {
   "cell_type": "markdown",
   "metadata": {
    "slideshow": {
     "slide_type": "notes"
    }
   },
   "source": [
    "After this introduction, we can start our data science journey ! The rest of the tutorial is loosely based on these [PyTorch examples](https://github.com/pytorch/examples/).\n"
   ]
  },
  {
   "cell_type": "markdown",
   "metadata": {
    "slideshow": {
     "slide_type": "slide"
    }
   },
   "source": [
    "### 2. Training Machines with PyTorch\n",
    "\n",
    "#### 2.1 Build Models with **torch.nn**\n",
    "#### 2.2 Manage your Data with **torch.utils.data**\n",
    "#### 2.3 Optimize the model's parameters with **torch.optim**\n",
    "#### 2.3 Compute Gradients Automatically with **torch.autograd**\n",
    "#### 2.4 Return to Numpy's ndarrays with **.numpy()** interface\n"
   ]
  },
  {
   "cell_type": "markdown",
   "metadata": {
    "slideshow": {
     "slide_type": "skip"
    }
   },
   "source": [
    "Before we look at more complex models, let's start with something really simple - linear regression and synthetic toy dataset that we can generate with sklearn kit."
   ]
  },
  {
   "cell_type": "code",
   "execution_count": 40,
   "metadata": {
    "slideshow": {
     "slide_type": "skip"
    }
   },
   "outputs": [
    {
     "data": {
      "image/png": "[encoded data removed]",
      "text/plain": [
       "<Figure size 360x360 with 1 Axes>"
      ]
     },
     "metadata": {},
     "output_type": "display_data"
    }
   ],
   "source": [
    "from sklearn.datasets import make_regression\n",
    "import seaborn as sns\n",
    "import pandas as pd\n",
    "import matplotlib.pyplot as plt\n",
    "\n",
    "sns.set()\n",
    "\n",
    "x_train, y_train, W_target = make_regression(n_samples=100, n_features=1, noise=10, coef = True)\n",
    "\n",
    "df = pd.DataFrame(data = {'X':x_train.ravel(), 'Y':y_train.ravel()})\n",
    "\n",
    "sns.lmplot(x='X', y='Y', data=df, fit_reg=True)\n",
    "plt.show()\n",
    "\n",
    "x_torch = torch.FloatTensor(x_train)\n",
    "y_torch = torch.FloatTensor(y_train)\n",
    "y_torch = y_torch.view(y_torch.size()[0], 1)"
   ]
  },
  {
   "cell_type": "markdown",
   "metadata": {
    "slideshow": {
     "slide_type": "slide"
    }
   },
   "source": [
    "## 2.1 Build Models with **torch.nn**"
   ]
  },
  {
   "cell_type": "markdown",
   "metadata": {
    "slideshow": {
     "slide_type": "fragment"
    }
   },
   "source": [
    "* **nn** = NeuralNet package\n",
    "* Main PyTorch's module for playing with NNets\n",
    "* Modules \n",
    " * implementations of all neural networks modules\n",
    " * models should also subclass **torch.nn.Module**\n",
    " * automatic conversions when calling **.cuda()**\n",
    " * **forward()** method must be implemented\n",
    " * propagation of **.train()** and **.eval()** modes\n",
    " * .."
   ]
  },
  {
   "cell_type": "markdown",
   "metadata": {
    "slideshow": {
     "slide_type": "skip"
    }
   },
   "source": [
    "PyTorch has a lot of useful modules in its **nn** library. One of them is linear. As the name suggests, it performs a linear transformation of its input, which is essentially linear regression does. "
   ]
  },
  {
   "cell_type": "markdown",
   "metadata": {
    "slideshow": {
     "slide_type": "notes"
    }
   },
   "source": [
    "PyTorch has a lot of useful modules in its **nn** library. One of them is linear. As the name suggests, it performs a linear transformation of its input, which is essentially linear regression does. "
   ]
  },
  {
   "cell_type": "markdown",
   "metadata": {
    "slideshow": {
     "slide_type": "slide"
    }
   },
   "source": [
    "### Simple model: LinearRegressor"
   ]
  },
  {
   "cell_type": "code",
   "execution_count": 41,
   "metadata": {
    "collapsed": true,
    "slideshow": {
     "slide_type": "fragment"
    }
   },
   "outputs": [],
   "source": [
    "class LinearRegressor(torch.nn.Module):\n",
    "    def __init__(self, input_size, output_size):\n",
    "        super(LinearRegressor, self).__init__()\n",
    "        self.linear = torch.nn.Linear(input_size, output_size)  \n",
    "        \n",
    "    def forward(self, x):\n",
    "        return self.linear(x)\n",
    "\n",
    "model = LinearRegressor(1, 1)"
   ]
  },
  {
   "cell_type": "markdown",
   "metadata": {
    "slideshow": {
     "slide_type": "skip"
    }
   },
   "source": [
    "To train a linear regression, we will need to add the right loss function from the same **nn** library. For linear regression we will use **MSELoss()**, mean squared error loss function.\n",
    "\n",
    "We will also need to use optimization function (SGD), and run a backpropagation similar to our previous toy example. Essentially, we repeating the steps from the **train()** function we defined above. The reason we can't use this function directly is that we implemented it for classification, not for regression, and as model prediction we use the index of the maximum element of cross-entropy loss. For linear regression we use output of linear layer as a prediction."
   ]
  },
  {
   "cell_type": "code",
   "execution_count": 42,
   "metadata": {
    "collapsed": true,
    "slideshow": {
     "slide_type": "skip"
    }
   },
   "outputs": [],
   "source": [
    "criterion = torch.nn.MSELoss()\n",
    "optimizer = torch.optim.SGD(model.parameters(), lr=0.1)  \n",
    "\n",
    "\n",
    "for epoch in range(50):\n",
    "    data, target = Variable(x_torch), Variable(y_torch)\n",
    "    output = model(data)\n",
    "        \n",
    "    optimizer.zero_grad()\n",
    "    loss = criterion(output, target)\n",
    "    loss.backward()\n",
    "    optimizer.step()\n",
    "        \n",
    "predicted = model(Variable(x_torch)).data.numpy()"
   ]
  },
  {
   "cell_type": "markdown",
   "metadata": {
    "slideshow": {
     "slide_type": "skip"
    }
   },
   "source": [
    "We can now print the original data and linear regression that we fit with PyTorch."
   ]
  },
  {
   "cell_type": "code",
   "execution_count": 43,
   "metadata": {
    "slideshow": {
     "slide_type": "skip"
    }
   },
   "outputs": [
    {
     "data": {
      "image/png": "[encoded data removed]",
      "text/plain": [
       "<Figure size 432x288 with 1 Axes>"
      ]
     },
     "metadata": {},
     "output_type": "display_data"
    }
   ],
   "source": [
    "plt.plot(x_train, y_train, 'o', label='Original data')\n",
    "plt.plot(x_train, predicted, label='Fitted line')\n",
    "plt.legend()\n",
    "plt.show()"
   ]
  },
  {
   "cell_type": "markdown",
   "metadata": {
    "slideshow": {
     "slide_type": "slide"
    }
   },
   "source": [
    "## 2.2 Manage your Data with **torch.utils.data**\n"
   ]
  },
  {
   "cell_type": "markdown",
   "metadata": {
    "slideshow": {
     "slide_type": "fragment"
    }
   },
   "source": [
    "- **torch.utils.data.Dataset** Abstract Class\n",
    " - subclasses must implement **\\__len__(self)** and **\\__getitem__(self, idx)** functions\n",
    "- **torch.utils.data.DataLoader** Dataset iterator\n",
    " - iterates Dataset's items and stack them into tensors\n",
    "- **torch.utils.data.Sampler** Dataset index sampler\n",
    " - generates **idx** for each **\\__getitem__** call"
   ]
  },
  {
   "cell_type": "markdown",
   "metadata": {
    "collapsed": true,
    "slideshow": {
     "slide_type": "notes"
    }
   },
   "source": [
    "To move forward with more complex models, let's download MNIST dataset to your 'datasets' folder and test some initial pre-processing that's available in PyTorch. PyTorch has dataloaders and handlers for various datasets. Once downloaded, you can use them any time. You can also wrap your data in PyTorch tensors and create your own data loader class.\n",
    "\n",
    "Batch size is a term used in machine learning and refers to the number of training examples utilised in one iteration. The batch size can be one of three options:\n",
    "-  batch mode: where the batch size is equal to the total dataset thus making the iteration and epoch values equivalent\n",
    "-  mini-batch mode: where the batch size is greater than one but less than the total dataset size. Usually, a number that can be divided into the total dataset size.\n",
    "-  stochastic mode: where the batch size is equal to one. Therefore the gradient and the neural network parameters are updated after each sample.\n"
   ]
  },
  {
   "cell_type": "markdown",
   "metadata": {
    "slideshow": {
     "slide_type": "slide"
    }
   },
   "source": [
    "## 2.2.1 **torch.utils.data.Dataset**"
   ]
  },
  {
   "cell_type": "code",
   "execution_count": 44,
   "metadata": {
    "collapsed": true,
    "slideshow": {
     "slide_type": "fragment"
    }
   },
   "outputs": [],
   "source": [
    "from sklearn.datasets import make_regression\n",
    "import matplotlib.pyplot as plt\n",
    "from torch.utils import data\n",
    "\n",
    "class RegressionDataset(data.Dataset):\n",
    "    def __init__(self, n_samples=100, n_fearues=1, noise=10, coef=True):\n",
    "        super(RegressionDataset, self).__init__()\n",
    "        self.x_train, self.y_train, W_target = make_regression(\n",
    "            n_samples=n_samples, \n",
    "            n_features=n_fearues, \n",
    "            noise=noise, \n",
    "            coef=coef)\n",
    "\n",
    "    def __len__(self):\n",
    "        return len(self.x_train)\n",
    "\n",
    "    def __getitem(self, idx):\n",
    "        return self.x_train[idx], self.y_train[idx]\n",
    "   "
   ]
  },
  {
   "cell_type": "code",
   "execution_count": 45,
   "metadata": {
    "slideshow": {
     "slide_type": "slide"
    }
   },
   "outputs": [
    {
     "data": {
      "text/plain": [
       "[<matplotlib.lines.Line2D at 0x111c9f250>]"
      ]
     },
     "execution_count": 45,
     "metadata": {},
     "output_type": "execute_result"
    },
    {
     "data": {
      "image/png": "[encoded data removed]",
      "text/plain": [
       "<Figure size 432x288 with 1 Axes>"
      ]
     },
     "metadata": {},
     "output_type": "display_data"
    }
   ],
   "source": [
    "regression_dataset = RegressionDataset()\n",
    "plt.plot(regression_dataset.x_train, regression_dataset.y_train, 'o', label='Original data')"
   ]
  },
  {
   "cell_type": "markdown",
   "metadata": {
    "slideshow": {
     "slide_type": "slide"
    }
   },
   "source": [
    "## 2.2.2 **torch.utils.data.Sampler**"
   ]
  },
  {
   "cell_type": "markdown",
   "metadata": {
    "slideshow": {
     "slide_type": "fragment"
    }
   },
   "source": [
    "- Base Class for all Samplers\n",
    "- subclasses must implement **\\__len__** and **\\__iter__** methods\n",
    "- provides a way to iterate over dataset elements"
   ]
  },
  {
   "cell_type": "markdown",
   "metadata": {
    "slideshow": {
     "slide_type": "slide"
    }
   },
   "source": [
    "## 2.2.2 **torch.utils.data.Sampler**\n",
    "Several basic implementations are provided by pytorch:\n",
    "- SequentialSampler\n",
    "- RandomSampler\n",
    "- SubsetRandomSampler\n",
    "- etc."
   ]
  },
  {
   "cell_type": "markdown",
   "metadata": {
    "slideshow": {
     "slide_type": "notes"
    }
   },
   "source": [
    "Its subclasses must implement an **\\__iter__** method, providing a way to iterate over indexes of dataset elements, and a __len__ method that returns the lenght of the returned iterators."
   ]
  },
  {
   "cell_type": "markdown",
   "metadata": {
    "slideshow": {
     "slide_type": "slide"
    }
   },
   "source": [
    "## 2.2.3 **torch.utils.data.DataLoader**"
   ]
  },
  {
   "cell_type": "markdown",
   "metadata": {
    "slideshow": {
     "slide_type": "fragment"
    }
   },
   "source": [
    "- Combines a dataset and a sampler\n",
    "- provides single- or multi-process iterators\n",
    "- by default (and if **sampler=None**) makes uses of a **SequentialSampler** or a **RandomSampler** (depending on the **shuffle** parameter value)"
   ]
  },
  {
   "cell_type": "markdown",
   "metadata": {
    "slideshow": {
     "slide_type": "slide"
    }
   },
   "source": [
    "## 2.3 Torch.optim"
   ]
  },
  {
   "cell_type": "markdown",
   "metadata": {
    "slideshow": {
     "slide_type": "fragment"
    }
   },
   "source": [
    "- implements various optimization algorithms\n",
    "- **SGD**, **Adam**, etc\n",
    "- updates the model's parameters by calling its **.step()** method\n",
    "- permits LR management through **torch.optim.lr_scheduler** classes"
   ]
  },
  {
   "cell_type": "markdown",
   "metadata": {
    "slideshow": {
     "slide_type": "slide"
    }
   },
   "source": [
    "### 2.3.1 Torch.optim eaxmple, **SGD**"
   ]
  },
  {
   "cell_type": "code",
   "execution_count": 46,
   "metadata": {
    "collapsed": true,
    "slideshow": {
     "slide_type": "fragment"
    }
   },
   "outputs": [],
   "source": [
    "import torch.optim as optim\n",
    "\n",
    "optimizer = optim.SGD(model.parameters(), lr=0.001, momentum=0.9)\n"
   ]
  },
  {
   "cell_type": "markdown",
   "metadata": {
    "slideshow": {
     "slide_type": "slide"
    }
   },
   "source": [
    "### 2.3.1 Torch.optim.lr_scheduler eaxmple, StepLR"
   ]
  },
  {
   "cell_type": "code",
   "execution_count": 47,
   "metadata": {
    "collapsed": true,
    "slideshow": {
     "slide_type": "fragment"
    }
   },
   "outputs": [],
   "source": [
    "from torch.optim.lr_scheduler import StepLR\n",
    "\n",
    "scheduler = StepLR(optimizer, step_size=200, gamma=0.1)"
   ]
  },
  {
   "cell_type": "markdown",
   "metadata": {
    "slideshow": {
     "slide_type": "fragment"
    }
   },
   "source": [
    "- we increase the step value by calling its **step()** method\n",
    "- when it reach **step_size** calls, **optimizer.lr *= gamma** gets executed and **step_size** gets reinizialized"
   ]
  },
  {
   "cell_type": "markdown",
   "metadata": {
    "slideshow": {
     "slide_type": "slide"
    }
   },
   "source": [
    "## 2.4 Torch.autograd"
   ]
  },
  {
   "cell_type": "markdown",
   "metadata": {
    "slideshow": {
     "slide_type": "fragment"
    }
   },
   "source": [
    "- provides classes and funcitons for automatic differetiation\n",
    "- requires minimal changes to the existing code\n",
    "- only need to declare Tensors for which the gradient should be computed (with **requires_grad=True** keyword)"
   ]
  },
  {
   "cell_type": "markdown",
   "metadata": {
    "slideshow": {
     "slide_type": "slide"
    }
   },
   "source": [
    "## 2.5 Back to numpy with **.numpy()** interface"
   ]
  },
  {
   "cell_type": "markdown",
   "metadata": {
    "slideshow": {
     "slide_type": "fragment"
    }
   },
   "source": [
    "- We can always get back to numpy's ndarrays\n",
    "- **.numpy()** if on a tensor\n",
    "- **.data.numpy()** if on a variable\n",
    "- **[SPOILER]** not for long..."
   ]
  },
  {
   "cell_type": "markdown",
   "metadata": {
    "slideshow": {
     "slide_type": "slide"
    }
   },
   "source": [
    "## 3. Some Real World (CV) application"
   ]
  },
  {
   "cell_type": "markdown",
   "metadata": {
    "slideshow": {
     "slide_type": "fragment"
    }
   },
   "source": [
    "### What Does Orobix Do?\n",
    "Among other things:\n",
    "- Medical Imaging\n",
    "  - Organs segmentation\n",
    "  - Disease Classification\n",
    "- Industrial Analysis\n",
    "  - Prototypical Learning\n",
    "  - VaGans\n",
    "- Gaming / Robot control\n",
    "  - Reinforcement learning"
   ]
  },
  {
   "cell_type": "markdown",
   "metadata": {
    "slideshow": {
     "slide_type": "slide"
    }
   },
   "source": [
    "Organs segmentation\n",
    "    Schermata 2018-04-09 alle 16.00.31\n",
    "    \n",
    "    \n",
    "Disease Classification\n",
    "    Schermata 2018-04-09 alle 15.59.28\n"
   ]
  },
  {
   "cell_type": "markdown",
   "metadata": {
    "slideshow": {
     "slide_type": "slide"
    }
   },
   "source": [
    "Prototypical Learning\n",
    "    substitution for T-Sne (we let the model learns the samples embeddings in its latent space)\n",
    "    ![img from paper](http://github.com/orobix/Prototypical-Networks-for-Few-shot-Learning-PyTorch/blob/master/doc/imgs/proto-1.png)\n",
    "    \n",
    "We used TSNE before and now this method to let people understand what the model is doing and why a certain sample undergoes a certain classification"
   ]
  },
  {
   "cell_type": "markdown",
   "metadata": {},
   "source": [
    "VAGAN (reference to vagan code)\n",
    "Visual Feature Attribution with Wasserstein GANs\n",
    "[img][reference]"
   ]
  },
  {
   "cell_type": "markdown",
   "metadata": {},
   "source": [
    "Reinforcement Learning to teach agents to think\n",
    "[img/vid/vid link]"
   ]
  },
  {
   "cell_type": "markdown",
   "metadata": {
    "slideshow": {
     "slide_type": "slide"
    }
   },
   "source": [
    "### 4. Training with PyTorch. Basics"
   ]
  },
  {
   "cell_type": "markdown",
   "metadata": {
    "slideshow": {
     "slide_type": "fragment"
    }
   },
   "source": [
    "- Basics\n",
    "- Linear Regression\n",
    "- Logistinc Regression"
   ]
  },
  {
   "cell_type": "markdown",
   "metadata": {
    "slideshow": {
     "slide_type": "slide"
    }
   },
   "source": [
    "### 4. Training with PyTorch. Intermediate"
   ]
  },
  {
   "cell_type": "markdown",
   "metadata": {
    "slideshow": {
     "slide_type": "fragment"
    }
   },
   "source": [
    "- torchvision package\n",
    "- pretrained model's predictions\n",
    "- transfer learning\n",
    "- fine tuning\n",
    "- CharRNN\n"
   ]
  },
  {
   "cell_type": "markdown",
   "metadata": {
    "slideshow": {
     "slide_type": "skip"
    }
   },
   "source": [
    "**Acknowledgements.** "
   ]
  },
  {
   "cell_type": "markdown",
   "metadata": {
    "slideshow": {
     "slide_type": "slide"
    }
   },
   "source": [
    "# Thank You !"
   ]
  },
  {
   "cell_type": "code",
   "execution_count": null,
   "metadata": {
    "collapsed": true
   },
   "outputs": [],
   "source": []
  }
 ],
 "metadata": {
  "celltoolbar": "Slideshow",
  "kernelspec": {
   "display_name": "Python 3",
   "language": "python",
   "name": "python3"
  },
  "language_info": {
   "codemirror_mode": {
    "name": "ipython",
    "version": 3
   },
   "file_extension": ".py",
   "mimetype": "text/x-python",
   "name": "python",
   "nbconvert_exporter": "python",
   "pygments_lexer": "ipython3",
   "version": "3.6.3"
  }
 },
 "nbformat": 4,
 "nbformat_minor": 2
}
